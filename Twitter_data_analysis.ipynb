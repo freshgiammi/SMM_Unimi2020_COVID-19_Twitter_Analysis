{
  "cells": [
    {
      "cell_type": "code",
      "source": [
        "import json\n",
        "import networkx as nx\n",
        "import pandas as pd\n",
        "import numpy as np\n",
        "import matplotlib.pyplot as plt\n",
        "from statsmodels.distributions.empirical_distribution import ECDF\n",
        "\n",
        "dataset = json.load(open('datasets/dataset.json'))\n",
        " \n",
        "totaltweets = 0\n",
        "totalusers = len(dataset)\n",
        "totalrt = 0\n",
        "userlist = list()\n",
        "realusers = list()\n",
        "\n",
        "usernames = list()\n",
        "for user in dataset:\n",
        "    userlist.append(user['handle'])\n",
        "    realusers.append(user['handle'])\n",
        "    totaltweets = totaltweets + len(user['tweets'])\n",
        "    for tweet in user['tweets']:\n",
        "        realusers.append(list(tweet['retweeted_from'].keys())[0])\n",
        "\n",
        "print(\"Are there user duplicates in the list? \"+str(len(userlist) != len(set(userlist))))\n",
        "print(\"We have a total of \"+str(totalusers)+\" users and \"+str(totaltweets)+\" retweets.\")\n",
        "print(\"We calculate around \"+str(totaltweets/totalusers)+\" tweets per user.\")\n",
        "\n",
        "realusers = list(dict.fromkeys(realusers))\n",
        "print(\"Total unique users (OC+RT) detected: \"+str(len(realusers)))"
      ],
      "outputs": [
        {
          "output_type": "stream",
          "name": "stdout",
          "text": [
            "Are there user duplicates in the list? False\n",
            "We have a total of 35682 users and 127461 retweets.\n",
            "We calculate around 3.5721372120396837 tweets per user.\n",
            "Total unique users (OC+RT) detected: 40347\n"
          ]
        }
      ],
      "execution_count": 1,
      "metadata": {
        "execution": {
          "iopub.status.busy": "2020-05-16T21:02:49.199Z",
          "iopub.execute_input": "2020-05-16T21:02:49.212Z",
          "iopub.status.idle": "2020-05-16T21:02:52.729Z",
          "shell.execute_reply": "2020-05-16T21:02:52.758Z"
        }
      }
    },
    {
      "cell_type": "code",
      "source": [
        "print(\"Generating edge list...\", end=\" \")\n",
        "twitter_d = nx.DiGraph()\n",
        "for user in dataset:\n",
        "    username = user['handle']\n",
        "    for tweet in user['tweets']:\n",
        "        rt_oc_user = list(tweet['retweeted_from'].keys())[0]\n",
        "        link = (username,rt_oc_user)\n",
        "        if username == rt_oc_user:\n",
        "            continue #User is retweeting himself; avoid self-loops\n",
        "        if (twitter_d.has_edge(username, rt_oc_user) != True):\n",
        "            twitter_d.add_edge(username, rt_oc_user, weight=1)\n",
        "        else:\n",
        "            twitter_d[username][rt_oc_user]['weight'] += 1\n",
        "print(\"Edge list generated.\")\n",
        "\n",
        "print('Preformatted nodes: {}'.format(twitter_d.order()))\n",
        "\n",
        "print('Number of nodes: {}'.format(twitter_d.order()))\n",
        "print('Number of links: {}'.format(twitter_d.size()))\n",
        "density = nx.density(twitter_d)\n",
        "print('Density: {}'.format(density))"
      ],
      "outputs": [
        {
          "output_type": "stream",
          "name": "stdout",
          "text": [
            "Generating edge list... Edge list generated.\n",
            "Preformatted nodes: 40261\n",
            "Number of nodes: 40261\n",
            "Number of links: 86899\n",
            "Density: 5.3611313847290494e-05\n"
          ]
        }
      ],
      "execution_count": 2,
      "metadata": {
        "execution": {
          "iopub.status.busy": "2020-05-16T21:02:54.811Z",
          "iopub.execute_input": "2020-05-16T21:02:54.828Z",
          "iopub.status.idle": "2020-05-16T21:02:55.566Z",
          "shell.execute_reply": "2020-05-16T21:02:55.603Z"
        }
      }
    },
    {
      "cell_type": "code",
      "source": [
        "degree = list(dict(twitter_d.degree()).values())\n",
        "in_degree = list(dict(twitter_d.in_degree()).values())\n",
        "out_degree = list(dict(twitter_d.out_degree()).values())\n",
        "print('Mean degree: {}'.format(np.mean(degree)))\n",
        "print('Standard deviation: {}'.format(np.std(degree)))\n",
        "print('Median: {}'.format(np.median(degree)))\n",
        "print('Min: {}'.format(np.min(degree)))\n",
        "print('Max: {}'.format(np.max(degree)))"
      ],
      "outputs": [
        {
          "output_type": "stream",
          "name": "stdout",
          "text": [
            "Mean degree: 4.316782990983831\n",
            "Standard deviation: 38.24466919303048\n",
            "Median: 1.0\n",
            "Min: 1\n",
            "Max: 6032\n"
          ]
        }
      ],
      "execution_count": 3,
      "metadata": {
        "execution": {
          "iopub.status.busy": "2020-05-16T21:02:57.504Z",
          "iopub.execute_input": "2020-05-16T21:02:57.518Z",
          "iopub.status.idle": "2020-05-16T21:02:57.609Z",
          "shell.execute_reply": "2020-05-16T21:02:57.640Z"
        }
      }
    },
    {
      "cell_type": "code",
      "source": [
        "print('Mean in-degree: {}'.format(np.mean(in_degree)))\n",
        "print('Standard deviation: {}'.format(np.std(in_degree)))\n",
        "print('Median: {}'.format(np.median(in_degree)))\n",
        "print('Min: {}'.format(np.min(in_degree)))\n",
        "print('Max: {}'.format(np.max(in_degree)))"
      ],
      "outputs": [
        {
          "output_type": "stream",
          "name": "stdout",
          "text": [
            "Mean in-degree: 2.1583914954919154\n",
            "Standard deviation: 38.001707549046195\n",
            "Median: 0.0\n",
            "Min: 0\n",
            "Max: 6032\n"
          ]
        }
      ],
      "execution_count": 6,
      "metadata": {
        "execution": {
          "iopub.status.busy": "2020-05-16T21:03:02.999Z",
          "iopub.execute_input": "2020-05-16T21:03:03.011Z",
          "iopub.status.idle": "2020-05-16T21:03:03.027Z",
          "shell.execute_reply": "2020-05-16T21:03:03.047Z"
        }
      }
    },
    {
      "cell_type": "code",
      "source": [
        "print('Mean out-degree: {}'.format(np.mean(out_degree)))\n",
        "print('Standard deviation: {}'.format(np.std(out_degree)))\n",
        "print('Median: {}'.format(np.median(out_degree)))\n",
        "print('Min: {}'.format(np.min(out_degree)))\n",
        "print('Max: {}'.format(np.max(out_degree)))"
      ],
      "outputs": [
        {
          "output_type": "stream",
          "name": "stdout",
          "text": [
            "Mean out-degree: 2.1583914954919154\n",
            "Standard deviation: 4.066518449677009\n",
            "Median: 1.0\n",
            "Min: 0\n",
            "Max: 198\n"
          ]
        }
      ],
      "execution_count": 5,
      "metadata": {
        "execution": {
          "iopub.status.busy": "2020-05-16T21:03:01.161Z",
          "iopub.execute_input": "2020-05-16T21:03:01.172Z",
          "iopub.status.idle": "2020-05-16T21:03:01.191Z",
          "shell.execute_reply": "2020-05-16T21:03:01.220Z"
        }
      }
    },
    {
      "cell_type": "code",
      "source": [
        "# ECDF linear scale\n",
        "cdf = ECDF(degree)\n",
        "x = np.unique(degree)\n",
        "y = cdf(x)\n",
        "fig_cdf = plt.figure(figsize=(8,4))\n",
        "axes = fig_cdf.gca()\n",
        "axes.plot(x,y,marker='o',ms=6, linestyle='None')\n",
        "axes.set_xlabel('Degree',size=20)\n",
        "axes.set_ylabel('ECDF', size = 20)"
      ],
      "outputs": [
        {
          "output_type": "execute_result",
          "execution_count": 7,
          "data": {
            "text/plain": [
              "Text(0, 0.5, 'ECDF')"
            ]
          },
          "metadata": {}
        },
        {
          "output_type": "display_data",
          "data": {
            "text/plain": [
              "<Figure size 576x288 with 1 Axes>"
            ],
            "image/png": "[encoded data removed]"
          },
          "metadata": {
            "needs_background": "light"
          }
        }
      ],
      "execution_count": 7,
      "metadata": {
        "execution": {
          "iopub.status.busy": "2020-05-16T21:03:10.168Z",
          "iopub.execute_input": "2020-05-16T21:03:10.177Z",
          "iopub.status.idle": "2020-05-16T21:03:10.473Z",
          "shell.execute_reply": "2020-05-16T21:03:10.500Z"
        }
      }
    },
    {
      "cell_type": "code",
      "source": [
        "# ECDF loglog scale\n",
        "cdf = ECDF(degree)\n",
        "x = np.unique(degree)\n",
        "y = cdf(x)\n",
        "fig_cdf = plt.figure(figsize=(8,4))\n",
        "axes = fig_cdf.gca()\n",
        "axes.loglog(x,y,marker='o',ms=8, linestyle='--')\n",
        "axes.set_xlabel('Degree',size=20)\n",
        "axes.set_ylabel('ECDF', size = 20)"
      ],
      "outputs": [
        {
          "output_type": "execute_result",
          "execution_count": 8,
          "data": {
            "text/plain": [
              "Text(0, 0.5, 'ECDF')"
            ]
          },
          "metadata": {}
        },
        {
          "output_type": "display_data",
          "data": {
            "text/plain": [
              "<Figure size 576x288 with 1 Axes>"
            ],
            "image/png": "[encoded data removed]"
          },
          "metadata": {
            "needs_background": "light"
          }
        }
      ],
      "execution_count": 8,
      "metadata": {
        "execution": {
          "iopub.status.busy": "2020-05-16T21:03:12.518Z",
          "iopub.execute_input": "2020-05-16T21:03:12.538Z",
          "iopub.status.idle": "2020-05-16T21:03:13.771Z",
          "shell.execute_reply": "2020-05-16T21:03:13.791Z"
        }
      }
    },
    {
      "cell_type": "code",
      "source": [
        "# ECCDF\n",
        "cdf = ECDF(degree)\n",
        "x = np.unique(degree)\n",
        "y = cdf(x)\n",
        "fig_cdf = plt.figure(figsize=(8,4))\n",
        "axes = fig_cdf.gca()\n",
        "axes.loglog(x,1-y,marker='o',ms=8, linestyle='--')\n",
        "axes.set_xlabel('Degree',size=20)\n",
        "axes.set_ylabel('ECCDF', size = 20)"
      ],
      "outputs": [
        {
          "output_type": "execute_result",
          "execution_count": 9,
          "data": {
            "text/plain": [
              "Text(0, 0.5, 'ECCDF')"
            ]
          },
          "metadata": {}
        },
        {
          "output_type": "display_data",
          "data": {
            "text/plain": [
              "<Figure size 576x288 with 1 Axes>"
            ],
            "image/png": "[encoded data removed]"
          },
          "metadata": {
            "needs_background": "light"
          }
        }
      ],
      "execution_count": 9,
      "metadata": {
        "execution": {
          "iopub.status.busy": "2020-05-16T21:03:15.374Z",
          "iopub.execute_input": "2020-05-16T21:03:15.386Z",
          "iopub.status.idle": "2020-05-16T21:03:16.403Z",
          "shell.execute_reply": "2020-05-16T21:03:16.426Z"
        }
      }
    },
    {
      "cell_type": "code",
      "source": [
        "# ECCDF in-degree\n",
        "cdf = ECDF(in_degree)\n",
        "x = np.unique(in_degree)\n",
        "y = cdf(x)\n",
        "fig_cdf = plt.figure(figsize=(8,4))\n",
        "axes = fig_cdf.gca()\n",
        "axes.loglog(x,1-y,marker='o',ms=8,label='In-degree')\n",
        "cdf = ECDF(out_degree)\n",
        "x = np.unique(out_degree)\n",
        "y = cdf(x)\n",
        "axes.loglog(x,1-y,marker='+',ms=8,label='Out-degree')\n",
        "axes.set_xlabel('in, out-Degree',size=20)\n",
        "axes.set_ylabel('ECCDF', size = 20)\n",
        "axes.legend()"
      ],
      "outputs": [
        {
          "output_type": "execute_result",
          "execution_count": 10,
          "data": {
            "text/plain": [
              "<matplotlib.legend.Legend at 0x7fc5cd15c410>"
            ]
          },
          "metadata": {}
        },
        {
          "output_type": "display_data",
          "data": {
            "text/plain": [
              "<Figure size 576x288 with 1 Axes>"
            ],
            "image/png": "[encoded data removed]"
          },
          "metadata": {
            "needs_background": "light"
          }
        }
      ],
      "execution_count": 10,
      "metadata": {
        "execution": {
          "iopub.status.busy": "2020-05-16T21:03:19.041Z",
          "iopub.execute_input": "2020-05-16T21:03:19.057Z",
          "iopub.status.idle": "2020-05-16T21:03:20.111Z",
          "shell.execute_reply": "2020-05-16T21:03:20.128Z"
        }
      }
    },
    {
      "cell_type": "code",
      "source": [
        "percentile_99 = np.percentile(degree,99.9)\n",
        "print(percentile_99)"
      ],
      "outputs": [
        {
          "output_type": "stream",
          "name": "stdout",
          "text": [
            "306.2200000000157\n"
          ]
        }
      ],
      "execution_count": 11,
      "metadata": {
        "execution": {
          "iopub.status.busy": "2020-05-16T21:03:24.625Z",
          "iopub.execute_input": "2020-05-16T21:03:24.635Z",
          "iopub.status.idle": "2020-05-16T21:03:24.652Z",
          "shell.execute_reply": "2020-05-16T21:03:24.659Z"
        }
      }
    },
    {
      "cell_type": "code",
      "source": [
        "hub_nodi = [k for k,v in dict(twitter_d.degree()).items() if v>= percentile_99]\n",
        "print(len(hub_nodi))\n",
        "print(list(hub_nodi))"
      ],
      "outputs": [
        {
          "output_type": "stream",
          "name": "stdout",
          "text": [
            "41\n",
            "['MediasetTgcom24', 'you_trend', 'Adnkronos', 'petergomezblog', 'Agenzia_Ansa', 'RadioSavana', 'benq_antonio', 'TarroGiulio', 'VittorioSgarbi', 'RaiNews', 'SkyTG24', 'repubblica', 'MedicalFactsIT', 'Corriere', 'Pontifex_it', 'CesareSacchetti', 'IlariaBifarini', 'ItalyQanons', 'NonVaccinato', 'Stefbazzi', 'ilpost', 'francescatotolo', 'LaStampa', 'matteosalvinimi', 'GiorgiaMeloni', 'DSantanche', 'giorgiamennuni', 'fattoquotidiano', 'molumbe', 'Linkiesta', 'isabellaisola3', 'VNotKind', 'GiancarloDeRisi', 'matteorenzi', 'Cartabellotta', 'marco_gervasoni', 'jeperego', 'Pgreco_', 'GrimoldiPaolo', 'christianrocca', 'davcarretta']\n"
          ]
        }
      ],
      "execution_count": 12,
      "metadata": {
        "execution": {
          "iopub.status.busy": "2020-05-16T21:03:26.484Z",
          "iopub.execute_input": "2020-05-16T21:03:26.514Z",
          "iopub.status.idle": "2020-05-16T21:03:26.550Z",
          "shell.execute_reply": "2020-05-16T21:03:26.566Z"
        }
      }
    },
    {
      "cell_type": "code",
      "source": [
        "degree=dict(nx.degree(twitter_d))\n",
        "degree_centrality = nx.degree_centrality(twitter_d)\n",
        "betweenness_centrality=nx.betweenness_centrality(twitter_d)\n",
        "closeness_centrality = nx.closeness_centrality(twitter_d)\n",
        "eigenvector_centrality = nx.eigenvector_centrality(twitter_d)\n",
        "# lambda function or anonimous function. no name, no return, no def, just use the keyword lambda\n",
        "# Sintax: lambda argument: manipulate(argument)\n",
        "hub_degree = sorted(degree_centrality.items(),key = lambda x:x[1], reverse=True)[0]\n",
        "hub_betweenness = sorted(betweenness_centrality.items(),key = lambda x:x[1], reverse=True)[0]\n",
        "hub_closeness = sorted(closeness_centrality.items(),key = lambda x:x[1], reverse=True)[0]\n",
        "hub_eigenvector = sorted(eigenvector_centrality.items(),key = lambda x:x[1], reverse=True)[0]\n",
        "print('degree:      ',hub_degree)\n",
        "print('betweenness: ',hub_betweenness)\n",
        "print('closeness:   ',hub_closeness)\n",
        "print('eigenvector: ',hub_eigenvector)"
      ],
      "outputs": [],
      "execution_count": 13,
      "metadata": {
        "collapsed": true,
        "outputExpanded": false,
        "jupyter": {
          "source_hidden": false,
          "outputs_hidden": false
        },
        "nteract": {
          "transient": {
            "deleting": false
          }
        },
        "execution": {
          "iopub.status.busy": "2020-05-16T21:03:28.268Z",
          "iopub.execute_input": "2020-05-16T21:03:28.277Z",
          "iopub.status.idle": "2020-05-16T21:00:02.315Z",
          "shell.execute_reply": "2020-05-16T21:00:02.333Z"
        }
      }
    }
  ],
  "metadata": {
    "kernelspec": {
      "display_name": "Python 3",
      "language": "python",
      "name": "python3"
    },
    "language_info": {
      "name": "python",
      "version": "3.7.6",
      "mimetype": "text/x-python",
      "codemirror_mode": {
        "name": "ipython",
        "version": 3
      },
      "pygments_lexer": "ipython3",
      "nbconvert_exporter": "python",
      "file_extension": ".py"
    },
    "nteract": {
      "version": "0.23.1"
    }
  },
  "nbformat": 4,
  "nbformat_minor": 4
}