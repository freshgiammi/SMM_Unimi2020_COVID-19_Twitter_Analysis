{
  "cells": [
    {
      "cell_type": "code",
      "source": [
        "import json\n",
        "import networkx as nx\n",
        "import pandas as pd\n",
        "import numpy as np\n",
        "import matplotlib.pyplot as plt\n",
        "from statsmodels.distributions.empirical_distribution import ECDF\n",
        "from statsmodels.distributions.empirical_distribution import ECDF\n",
        "\n",
        "dataset = json.load(open('datasets/dataset.json'))\n",
        " \n",
        "totaltweets = 0\n",
        "totalusers = len(dataset)\n",
        "totalrt = 0\n",
        "userlist = list()\n",
        "realusers = list()\n",
        "\n",
        "usernames = list()\n",
        "for user in dataset:\n",
        "    userlist.append(user['handle'])\n",
        "    realusers.append(user['handle'])\n",
        "    totaltweets = totaltweets + len(user['tweets'])\n",
        "    for tweet in user['tweets']:\n",
        "        realusers.append(list(tweet['retweeted_from'].keys())[0])\n",
        "\n",
        "print(\"Are there user duplicates in the list? \"+str(len(userlist) != len(set(userlist))))\n",
        "print(\"We have a total of \"+str(totalusers)+\" users and \"+str(totaltweets)+\" retweets.\")\n",
        "print(\"We calculate around \"+str(totaltweets/totalusers)+\" tweets per user.\")\n",
        "\n",
        "realusers = list(dict.fromkeys(realusers))\n",
        "print(\"Total unique users (OC+RT) detected: \"+str(len(realusers)))"
      ],
      "outputs": [
        {
          "output_type": "stream",
          "name": "stdout",
          "text": [
            "Are there user duplicates in the list? False\n",
            "We have a total of 32650 users and 105450 retweets.\n",
            "We calculate around 3.229709035222052 tweets per user.\n",
            "Total unique users (OC+RT) detected: 36833\n"
          ]
        }
      ],
      "execution_count": 1,
      "metadata": {
        "execution": {
          "iopub.status.busy": "2020-05-13T22:47:07.043Z",
          "iopub.execute_input": "2020-05-13T22:47:07.058Z",
          "iopub.status.idle": "2020-05-13T22:47:12.185Z",
          "shell.execute_reply": "2020-05-13T22:47:12.207Z"
        }
      }
    },
    {
      "cell_type": "code",
      "source": [],
      "outputs": [],
      "execution_count": null,
      "metadata": {
        "collapsed": true,
        "outputExpanded": false,
        "jupyter": {
          "source_hidden": false,
          "outputs_hidden": false
        },
        "nteract": {
          "transient": {
            "deleting": false
          }
        }
      }
    },
    {
      "cell_type": "code",
      "source": [
        "print(\"Generating edge list...\", end=\" \")\n",
        "twitter_d = nx.DiGraph()\n",
        "for user in dataset:\n",
        "    username = user['handle']\n",
        "    for tweet in user['tweets']:\n",
        "        rt_oc_user = list(tweet['retweeted_from'].keys())[0]\n",
        "        link = (username,rt_oc_user)\n",
        "        if username == rt_oc_user:\n",
        "            continue #User is retweeting himself; avoid self-loops\n",
        "        if (twitter_d.has_edge(username, rt_oc_user) != True):\n",
        "            twitter_d.add_edge(username, rt_oc_user, weight=1)\n",
        "        else:\n",
        "            twitter_d[username][rt_oc_user]['weight'] += 1\n",
        "print(\"Edge list generated.\")\n",
        "\n",
        "print('Preformatted nodes: {}'.format(twitter_d.order()))\n",
        "\n",
        "print('Number of nodes: {}'.format(twitter_d.order()))\n",
        "print('Number of links: {}'.format(twitter_d.size()))\n",
        "density = nx.density(twitter_d)\n",
        "print('Density: {}'.format(density))"
      ],
      "outputs": [
        {
          "output_type": "stream",
          "name": "stdout",
          "text": [
            "Generating edge list... Edge list generated.\n",
            "Preformatted nodes: 36747\n",
            "Number of nodes: 36747\n",
            "Number of links: 73929\n",
            "Density: 5.4749842187906694e-05\n"
          ]
        }
      ],
      "execution_count": 2,
      "metadata": {
        "execution": {
          "iopub.status.busy": "2020-05-13T22:47:21.817Z",
          "iopub.execute_input": "2020-05-13T22:47:21.835Z",
          "iopub.status.idle": "2020-05-13T22:47:22.727Z",
          "shell.execute_reply": "2020-05-13T22:47:22.751Z"
        }
      }
    },
    {
      "cell_type": "code",
      "source": [
        "degree = list(dict(twitter_d.degree()).values())\n",
        "in_degree = list(dict(twitter_d.in_degree()).values())\n",
        "out_degree = list(dict(twitter_d.out_degree()).values())\n",
        "print('Mean degree: {}'.format(np.mean(degree)))\n",
        "print('Standard deviation: {}'.format(np.std(degree)))\n",
        "print('Median: {}'.format(np.median(degree)))\n",
        "print('Min: {}'.format(np.min(degree)))\n",
        "print('Max: {}'.format(np.max(degree)))"
      ],
      "outputs": [
        {
          "output_type": "stream",
          "name": "stdout",
          "text": [
            "Mean degree: 4.023675402073638\n",
            "Standard deviation: 36.754534947152244\n",
            "Median: 1.0\n",
            "Min: 1\n",
            "Max: 5576\n"
          ]
        }
      ],
      "execution_count": 3,
      "metadata": {
        "execution": {
          "iopub.status.busy": "2020-05-13T22:47:29.589Z",
          "iopub.execute_input": "2020-05-13T22:47:29.610Z",
          "iopub.status.idle": "2020-05-13T22:47:29.696Z",
          "shell.execute_reply": "2020-05-13T22:47:29.717Z"
        }
      }
    },
    {
      "cell_type": "code",
      "source": [
        "print('Mean in-degree: {}'.format(np.mean(in_degree)))\n",
        "print('Standard deviation: {}'.format(np.std(in_degree)))\n",
        "print('Median: {}'.format(np.median(in_degree)))\n",
        "print('Min: {}'.format(np.min(in_degree)))\n",
        "print('Max: {}'.format(np.max(in_degree)))"
      ],
      "outputs": [
        {
          "output_type": "stream",
          "name": "stdout",
          "text": [
            "Mean in-degree: 2.011837701036819\n",
            "Standard deviation: 36.56791928429412\n",
            "Median: 0.0\n",
            "Min: 0\n",
            "Max: 5576\n"
          ]
        }
      ],
      "execution_count": 4,
      "metadata": {
        "execution": {
          "iopub.status.busy": "2020-05-13T22:47:32.789Z",
          "iopub.execute_input": "2020-05-13T22:47:32.802Z",
          "iopub.status.idle": "2020-05-13T22:47:32.827Z",
          "shell.execute_reply": "2020-05-13T22:47:32.858Z"
        }
      }
    },
    {
      "cell_type": "code",
      "source": [
        "print('Mean out-degree: {}'.format(np.mean(out_degree)))\n",
        "print('Standard deviation: {}'.format(np.std(out_degree)))\n",
        "print('Median: {}'.format(np.median(out_degree)))\n",
        "print('Min: {}'.format(np.min(out_degree)))\n",
        "print('Max: {}'.format(np.max(out_degree)))"
      ],
      "outputs": [
        {
          "output_type": "stream",
          "name": "stdout",
          "text": [
            "Mean out-degree: 2.011837701036819\n",
            "Standard deviation: 3.6150820016995278\n",
            "Median: 1.0\n",
            "Min: 0\n",
            "Max: 180\n"
          ]
        }
      ],
      "execution_count": 5,
      "metadata": {
        "execution": {
          "iopub.status.busy": "2020-05-13T22:47:36.027Z",
          "iopub.execute_input": "2020-05-13T22:47:36.041Z",
          "iopub.status.idle": "2020-05-13T22:47:36.061Z",
          "shell.execute_reply": "2020-05-13T22:47:36.078Z"
        }
      }
    },
    {
      "cell_type": "code",
      "source": [
        "# ECDF linear scale\n",
        "cdf = ECDF(degree)\n",
        "x = np.unique(degree)\n",
        "y = cdf(x)\n",
        "fig_cdf = plt.figure(figsize=(8,4))\n",
        "axes = fig_cdf.gca()\n",
        "axes.plot(x,y,marker='o',ms=6, linestyle='None')\n",
        "axes.set_xlabel('Degree',size=20)\n",
        "axes.set_ylabel('ECDF', size = 20)"
      ],
      "outputs": [
        {
          "output_type": "execute_result",
          "execution_count": 6,
          "data": {
            "text/plain": [
              "Text(0, 0.5, 'ECDF')"
            ]
          },
          "metadata": {}
        },
        {
          "output_type": "display_data",
          "data": {
            "text/plain": [
              "<Figure size 576x288 with 1 Axes>"
            ],
            "image/png": "[encoded data removed]"
          },
          "metadata": {
            "needs_background": "light"
          }
        }
      ],
      "execution_count": 6,
      "metadata": {
        "execution": {
          "iopub.status.busy": "2020-05-13T22:47:39.374Z",
          "iopub.execute_input": "2020-05-13T22:47:39.384Z",
          "iopub.status.idle": "2020-05-13T22:47:39.733Z",
          "shell.execute_reply": "2020-05-13T22:47:39.767Z"
        }
      }
    },
    {
      "cell_type": "code",
      "source": [
        "# ECDF loglog scale\n",
        "cdf = ECDF(degree)\n",
        "x = np.unique(degree)\n",
        "y = cdf(x)\n",
        "fig_cdf = plt.figure(figsize=(8,4))\n",
        "axes = fig_cdf.gca()\n",
        "axes.loglog(x,y,marker='o',ms=8, linestyle='--')\n",
        "axes.set_xlabel('Degree',size=20)\n",
        "axes.set_ylabel('ECDF', size = 20)"
      ],
      "outputs": [
        {
          "output_type": "execute_result",
          "execution_count": 7,
          "data": {
            "text/plain": [
              "Text(0, 0.5, 'ECDF')"
            ]
          },
          "metadata": {}
        },
        {
          "output_type": "display_data",
          "data": {
            "text/plain": [
              "<Figure size 576x288 with 1 Axes>"
            ],
            "image/png": "[encoded data removed]"
          },
          "metadata": {
            "needs_background": "light"
          }
        }
      ],
      "execution_count": 7,
      "metadata": {
        "execution": {
          "iopub.status.busy": "2020-05-13T22:47:42.757Z",
          "iopub.execute_input": "2020-05-13T22:47:42.770Z",
          "iopub.status.idle": "2020-05-13T22:47:44.014Z",
          "shell.execute_reply": "2020-05-13T22:47:44.029Z"
        }
      }
    },
    {
      "cell_type": "code",
      "source": [
        "# ECCDF\n",
        "cdf = ECDF(degree)\n",
        "x = np.unique(degree)\n",
        "y = cdf(x)\n",
        "fig_cdf = plt.figure(figsize=(8,4))\n",
        "axes = fig_cdf.gca()\n",
        "axes.loglog(x,1-y,marker='o',ms=8, linestyle='--')\n",
        "axes.set_xlabel('Degree',size=20)\n",
        "axes.set_ylabel('ECCDF', size = 20)"
      ],
      "outputs": [
        {
          "output_type": "execute_result",
          "execution_count": 8,
          "data": {
            "text/plain": [
              "Text(0, 0.5, 'ECCDF')"
            ]
          },
          "metadata": {}
        },
        {
          "output_type": "display_data",
          "data": {
            "text/plain": [
              "<Figure size 576x288 with 1 Axes>"
            ],
            "image/png": "[encoded data removed]"
          },
          "metadata": {
            "needs_background": "light"
          }
        }
      ],
      "execution_count": 8,
      "metadata": {
        "execution": {
          "iopub.status.busy": "2020-05-13T22:47:47.019Z",
          "iopub.execute_input": "2020-05-13T22:47:47.026Z",
          "iopub.status.idle": "2020-05-13T22:47:47.986Z",
          "shell.execute_reply": "2020-05-13T22:47:48.006Z"
        }
      }
    },
    {
      "cell_type": "code",
      "source": [
        "# ECCDF in-degree\n",
        "cdf = ECDF(in_degree)\n",
        "x = np.unique(in_degree)\n",
        "y = cdf(x)\n",
        "fig_cdf = plt.figure(figsize=(8,4))\n",
        "axes = fig_cdf.gca()\n",
        "axes.loglog(x,1-y,marker='o',ms=8,label='In-degree')\n",
        "cdf = ECDF(out_degree)\n",
        "x = np.unique(out_degree)\n",
        "y = cdf(x)\n",
        "axes.loglog(x,1-y,marker='+',ms=8,label='Out-degree')\n",
        "axes.set_xlabel('in, out-Degree',size=20)\n",
        "axes.set_ylabel('ECCDF', size = 20)\n",
        "axes.legend()"
      ],
      "outputs": [
        {
          "output_type": "execute_result",
          "execution_count": 9,
          "data": {
            "text/plain": [
              "<matplotlib.legend.Legend at 0x7fe21a2a3390>"
            ]
          },
          "metadata": {}
        },
        {
          "output_type": "display_data",
          "data": {
            "text/plain": [
              "<Figure size 576x288 with 1 Axes>"
            ],
            "image/png": "[encoded data removed]"
          },
          "metadata": {
            "needs_background": "light"
          }
        }
      ],
      "execution_count": 9,
      "metadata": {
        "execution": {
          "iopub.status.busy": "2020-05-13T22:47:59.857Z",
          "iopub.execute_input": "2020-05-13T22:47:59.864Z",
          "iopub.status.idle": "2020-05-13T22:48:00.899Z",
          "shell.execute_reply": "2020-05-13T22:48:00.912Z"
        }
      }
    },
    {
      "cell_type": "code",
      "source": [
        "percentile_99 = np.percentile(degree,99.9)\n",
        "print(percentile_99)"
      ],
      "outputs": [
        {
          "output_type": "stream",
          "name": "stdout",
          "text": [
            "273.2540000000008\n"
          ]
        }
      ],
      "execution_count": 10,
      "metadata": {
        "execution": {
          "iopub.status.busy": "2020-05-13T22:48:04.119Z",
          "iopub.execute_input": "2020-05-13T22:48:04.128Z",
          "iopub.status.idle": "2020-05-13T22:48:04.142Z",
          "shell.execute_reply": "2020-05-13T22:48:04.149Z"
        }
      }
    },
    {
      "cell_type": "code",
      "source": [
        "hub_nodi = [k for k,v in dict(twitter_d.degree()).items() if v>= percentile_99]\n",
        "print(len(hub_nodi))\n",
        "print(list(hub_nodi))"
      ],
      "outputs": [
        {
          "output_type": "stream",
          "name": "stdout",
          "text": [
            "37\n",
            "['marklevinshow', 'MediasetTgcom24', 'you_trend', 'Adnkronos', 'Agenzia_Ansa', 'RadioSavana', 'benq_antonio', 'RaiNews', 'SkyTG24', 'repubblica', 'MedicalFactsIT', 'Corriere', 'Pontifex_it', 'a_meluzzi', 'CesareSacchetti', 'ItalyQanons', 'NonVaccinato', 'Stefbazzi', 'ilpost', 'francescatotolo', 'GiorgiaMeloni', 'fattoquotidiano', 'molumbe', 'isabellaisola3', 'VNotKind', 'GiancarloDeRisi', 'matteorenzi', 'Cartabellotta', 'marco_gervasoni', 'ilruttosovrano', 'giorgiamennuni', 'jeperego', 'Pgreco_', 'GrimoldiPaolo', 'antonluca_cuoco', 'christianrocca', 'davcarretta']\n"
          ]
        }
      ],
      "execution_count": 11,
      "metadata": {
        "execution": {
          "iopub.status.busy": "2020-05-13T22:48:06.844Z",
          "iopub.execute_input": "2020-05-13T22:48:06.851Z",
          "iopub.status.idle": "2020-05-13T22:48:06.891Z",
          "shell.execute_reply": "2020-05-13T22:48:06.909Z"
        }
      }
    },
    {
      "cell_type": "code",
      "source": [],
      "outputs": [],
      "execution_count": null,
      "metadata": {
        "collapsed": true,
        "outputExpanded": false,
        "jupyter": {
          "source_hidden": false,
          "outputs_hidden": false
        },
        "nteract": {
          "transient": {
            "deleting": false
          }
        }
      }
    }
  ],
  "metadata": {
    "kernelspec": {
      "display_name": "Python 3",
      "language": "python",
      "name": "python3"
    },
    "language_info": {
      "name": "python",
      "version": "3.7.6",
      "mimetype": "text/x-python",
      "codemirror_mode": {
        "name": "ipython",
        "version": 3
      },
      "pygments_lexer": "ipython3",
      "nbconvert_exporter": "python",
      "file_extension": ".py"
    },
    "nteract": {
      "version": "0.23.1"
    }
  },
  "nbformat": 4,
  "nbformat_minor": 4
}