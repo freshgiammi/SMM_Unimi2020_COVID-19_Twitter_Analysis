{
  "cells": [
    {
      "cell_type": "code",
      "source": [
        "import json\n",
        "import networkx as nx\n",
        "import pandas as pd\n",
        "import numpy as np\n",
        "import matplotlib.pyplot as plt\n",
        "from statsmodels.distributions.empirical_distribution import ECDF\n",
        "\n",
        "dataset = json.load(open('datasets/dataset.json'))\n",
        " \n",
        "totaltweets = 0\n",
        "totalusers = len(dataset)\n",
        "totalrt = 0\n",
        "userlist = list()\n",
        "realusers = list()\n",
        "\n",
        "usernames = list()\n",
        "for user in dataset:\n",
        "    userlist.append(user['handle'])\n",
        "    realusers.append(user['handle'])\n",
        "    totaltweets = totaltweets + len(user['tweets'])\n",
        "    for tweet in user['tweets']:\n",
        "        realusers.append(list(tweet['retweeted_from'].keys())[0])\n",
        "\n",
        "print(\"Are there user duplicates in the list? \"+str(len(userlist) != len(set(userlist))))\n",
        "print(\"We have a total of \"+str(totalusers)+\" users and \"+str(totaltweets)+\" retweets.\")\n",
        "print(\"We calculate around \"+str(totaltweets/totalusers)+\" tweets per user.\")\n",
        "\n",
        "realusers = list(dict.fromkeys(realusers))\n",
        "print(\"Total unique users (OC+RT) detected: \"+str(len(realusers)))"
      ],
      "outputs": [
        {
          "output_type": "stream",
          "name": "stdout",
          "text": [
            "Are there user duplicates in the list? False\n",
            "We have a total of 35682 users and 127461 retweets.\n",
            "We calculate around 3.5721372120396837 tweets per user.\n",
            "Total unique users (OC+RT) detected: 40347\n"
          ]
        }
      ],
      "execution_count": 2,
      "metadata": {
        "execution": {
          "iopub.status.busy": "2020-05-17T20:06:29.052Z",
          "iopub.execute_input": "2020-05-17T20:06:29.063Z",
          "iopub.status.idle": "2020-05-17T20:06:34.743Z",
          "shell.execute_reply": "2020-05-17T20:06:34.826Z"
        }
      }
    },
    {
      "cell_type": "code",
      "source": [
        "print(\"Generating edge list...\", end=\" \")\n",
        "twitter_d = nx.DiGraph()\n",
        "for user in dataset:\n",
        "    username = user['handle']\n",
        "    for tweet in user['tweets']:\n",
        "        rt_oc_user = list(tweet['retweeted_from'].keys())[0]\n",
        "        link = (username,rt_oc_user)\n",
        "        if username == rt_oc_user:\n",
        "            continue #User is retweeting himself; avoid self-loops\n",
        "        if (twitter_d.has_edge(username, rt_oc_user) != True):\n",
        "            twitter_d.add_edge(username, rt_oc_user, weight=1)\n",
        "        else:\n",
        "            twitter_d[username][rt_oc_user]['weight'] += 1\n",
        "print(\"Done.\")\n",
        "print('Preformatted nodes: {}'.format(twitter_d.order()))\n",
        "\n",
        "print('Removing nodes outside of Giant Component...', end='')\n",
        "weak_nodes = max(nx.weakly_connected_components(twitter_d), key=len)\n",
        "nodelist = list()\n",
        "for n in twitter_d.nodes():\n",
        "    if n not in weak_nodes:\n",
        "      nodelist.append(n)\n",
        "twitter_d.remove_nodes_from(nodelist)\n",
        "print(' '+str(len(nodelist))+ ' nodes removed.')\n",
        "\n",
        "print('Number of nodes: {}'.format(twitter_d.order()))\n",
        "print('Number of links: {}'.format(twitter_d.size()))\n",
        "density = nx.density(twitter_d)\n",
        "print('Density: {}'.format(density))"
      ],
      "outputs": [
        {
          "output_type": "stream",
          "name": "stdout",
          "text": [
            "Generating edge list... Done.\n",
            "Preformatted nodes: 40261\n",
            "Removing nodes outside of Giant Component... 3315 nodes removed.\n",
            "Number of nodes: 36946\n",
            "Number of links: 84807\n",
            "Density: 6.213103721248901e-05\n"
          ]
        }
      ],
      "execution_count": 3,
      "metadata": {
        "execution": {
          "iopub.status.busy": "2020-05-17T20:06:34.761Z",
          "iopub.execute_input": "2020-05-17T20:06:34.775Z",
          "iopub.status.idle": "2020-05-17T20:06:36.251Z",
          "shell.execute_reply": "2020-05-17T20:06:36.262Z"
        }
      }
    },
    {
      "cell_type": "code",
      "source": [
        "degree = list(dict(twitter_d.degree()).values())\n",
        "in_degree = list(dict(twitter_d.in_degree()).values())\n",
        "out_degree = list(dict(twitter_d.out_degree()).values())\n",
        "print('Mean degree: {}'.format(np.mean(degree)))\n",
        "print('Standard deviation: {}'.format(np.std(degree)))\n",
        "print('Median: {}'.format(np.median(degree)))\n",
        "print('Min: {}'.format(np.min(degree)))\n",
        "print('Max: {}'.format(np.max(degree)))"
      ],
      "outputs": [
        {
          "output_type": "stream",
          "name": "stdout",
          "text": [
            "Mean degree: 4.590862339630813\n",
            "Standard deviation: 39.90866849325069\n",
            "Median: 1.0\n",
            "Min: 1\n",
            "Max: 6032\n"
          ]
        }
      ],
      "execution_count": 4,
      "metadata": {
        "execution": {
          "iopub.status.busy": "2020-05-17T20:06:36.297Z",
          "iopub.execute_input": "2020-05-17T20:06:36.342Z",
          "iopub.status.idle": "2020-05-17T20:06:36.379Z",
          "shell.execute_reply": "2020-05-17T20:06:36.527Z"
        }
      }
    },
    {
      "cell_type": "code",
      "source": [
        "print('Mean in-degree: {}'.format(np.mean(in_degree)))\n",
        "print('Standard deviation: {}'.format(np.std(in_degree)))\n",
        "print('Median: {}'.format(np.median(in_degree)))\n",
        "print('Min: {}'.format(np.min(in_degree)))\n",
        "print('Max: {}'.format(np.max(in_degree)))"
      ],
      "outputs": [
        {
          "output_type": "stream",
          "name": "stdout",
          "text": [
            "Mean in-degree: 2.2954311698154064\n",
            "Standard deviation: 39.66301453828775\n",
            "Median: 0.0\n",
            "Min: 0\n",
            "Max: 6032\n"
          ]
        }
      ],
      "execution_count": 5,
      "metadata": {
        "execution": {
          "iopub.status.busy": "2020-05-17T20:06:36.393Z",
          "iopub.execute_input": "2020-05-17T20:06:36.402Z",
          "iopub.status.idle": "2020-05-17T20:06:36.431Z",
          "shell.execute_reply": "2020-05-17T20:06:36.536Z"
        }
      }
    },
    {
      "cell_type": "code",
      "source": [
        "print('Mean out-degree: {}'.format(np.mean(out_degree)))\n",
        "print('Standard deviation: {}'.format(np.std(out_degree)))\n",
        "print('Median: {}'.format(np.median(out_degree)))\n",
        "print('Min: {}'.format(np.min(out_degree)))\n",
        "print('Max: {}'.format(np.max(out_degree)))"
      ],
      "outputs": [
        {
          "output_type": "stream",
          "name": "stdout",
          "text": [
            "Mean out-degree: 2.2954311698154064\n",
            "Standard deviation: 4.215177935178007\n",
            "Median: 1.0\n",
            "Min: 0\n",
            "Max: 198\n"
          ]
        }
      ],
      "execution_count": 6,
      "metadata": {
        "execution": {
          "iopub.status.busy": "2020-05-17T20:06:36.445Z",
          "iopub.execute_input": "2020-05-17T20:06:36.456Z",
          "iopub.status.idle": "2020-05-17T20:06:36.479Z",
          "shell.execute_reply": "2020-05-17T20:06:36.543Z"
        }
      }
    },
    {
      "cell_type": "code",
      "source": [
        "# ECDF linear scale\n",
        "cdf = ECDF(degree)\n",
        "x = np.unique(degree)\n",
        "y = cdf(x)\n",
        "fig_cdf = plt.figure(figsize=(8,4))\n",
        "axes = fig_cdf.gca()\n",
        "axes.plot(x,y,marker='o',ms=6, linestyle='None')\n",
        "axes.set_xlabel('Degree',size=20)\n",
        "axes.set_ylabel('ECDF', size = 20)"
      ],
      "outputs": [
        {
          "output_type": "execute_result",
          "execution_count": 7,
          "data": {
            "text/plain": [
              "Text(0, 0.5, 'ECDF')"
            ]
          },
          "metadata": {}
        },
        {
          "output_type": "display_data",
          "data": {
            "text/plain": [
              "<Figure size 576x288 with 1 Axes>"
            ],
            "image/png": "[encoded data removed]"
          },
          "metadata": {
            "needs_background": "light"
          }
        }
      ],
      "execution_count": 7,
      "metadata": {
        "execution": {
          "iopub.status.busy": "2020-05-17T20:06:36.494Z",
          "iopub.execute_input": "2020-05-17T20:06:36.506Z",
          "iopub.status.idle": "2020-05-17T20:06:36.776Z",
          "shell.execute_reply": "2020-05-17T20:06:36.818Z"
        }
      }
    },
    {
      "cell_type": "code",
      "source": [
        "# ECDF loglog scale\n",
        "cdf = ECDF(degree)\n",
        "x = np.unique(degree)\n",
        "y = cdf(x)\n",
        "fig_cdf = plt.figure(figsize=(16,8))\n",
        "axes = fig_cdf.gca()\n",
        "axes.loglog(x,y,marker='o',ms=8, linestyle='--')\n",
        "axes.set_xlabel('Degree',size=20)\n",
        "axes.set_ylabel('ECDF', size=20)"
      ],
      "outputs": [
        {
          "output_type": "execute_result",
          "execution_count": 8,
          "data": {
            "text/plain": [
              "Text(0, 0.5, 'ECDF')"
            ]
          },
          "metadata": {}
        },
        {
          "output_type": "display_data",
          "data": {
            "text/plain": [
              "<Figure size 1152x576 with 1 Axes>"
            ],
            "image/png": "[encoded data removed]"
          },
          "metadata": {
            "needs_background": "light"
          }
        }
      ],
      "execution_count": 8,
      "metadata": {
        "execution": {
          "iopub.status.busy": "2020-05-17T20:06:36.794Z",
          "iopub.execute_input": "2020-05-17T20:06:36.805Z",
          "iopub.status.idle": "2020-05-17T20:06:38.187Z",
          "shell.execute_reply": "2020-05-17T20:06:38.234Z"
        }
      }
    },
    {
      "cell_type": "code",
      "source": [
        "# ECCDF\n",
        "cdf = ECDF(degree)\n",
        "x = np.unique(degree)\n",
        "y = cdf(x)\n",
        "fig_cdf = plt.figure(figsize=(16,8))\n",
        "axes = fig_cdf.gca()\n",
        "axes.loglog(x,1-y,marker='o',ms=8, linestyle='--')\n",
        "axes.set_xlabel('Degree',size=20)\n",
        "axes.set_ylabel('ECCDF', size=20)"
      ],
      "outputs": [
        {
          "output_type": "execute_result",
          "execution_count": 9,
          "data": {
            "text/plain": [
              "Text(0, 0.5, 'ECCDF')"
            ]
          },
          "metadata": {}
        },
        {
          "output_type": "display_data",
          "data": {
            "text/plain": [
              "<Figure size 1152x576 with 1 Axes>"
            ],
            "image/png": "[encoded data removed]"
          },
          "metadata": {
            "needs_background": "light"
          }
        }
      ],
      "execution_count": 9,
      "metadata": {
        "execution": {
          "iopub.status.busy": "2020-05-17T20:06:38.210Z",
          "iopub.execute_input": "2020-05-17T20:06:38.225Z",
          "iopub.status.idle": "2020-05-17T20:06:39.375Z",
          "shell.execute_reply": "2020-05-17T20:06:39.406Z"
        }
      }
    },
    {
      "cell_type": "code",
      "source": [
        "# ECCDF in-degree\n",
        "cdf = ECDF(in_degree)\n",
        "x = np.unique(in_degree)\n",
        "y = cdf(x)\n",
        "fig_cdf = plt.figure(figsize=(16,8))\n",
        "axes = fig_cdf.gca()\n",
        "axes.loglog(x,1-y,marker='o',ms=8,label='In-degree')\n",
        "cdf = ECDF(out_degree)\n",
        "x = np.unique(out_degree)\n",
        "y = cdf(x)\n",
        "axes.loglog(x,1-y,marker='+',ms=8,label='Out-degree')\n",
        "axes.set_xlabel('in, out-Degree',size=20)\n",
        "axes.set_ylabel('ECCDF', size=20)\n",
        "axes.legend()"
      ],
      "outputs": [
        {
          "output_type": "execute_result",
          "execution_count": 10,
          "data": {
            "text/plain": [
              "<matplotlib.legend.Legend at 0x1a2864ebd0>"
            ]
          },
          "metadata": {}
        },
        {
          "output_type": "display_data",
          "data": {
            "text/plain": [
              "<Figure size 1152x576 with 1 Axes>"
            ],
            "image/png": "[encoded data removed]"
          },
          "metadata": {
            "needs_background": "light"
          }
        }
      ],
      "execution_count": 10,
      "metadata": {
        "execution": {
          "iopub.status.busy": "2020-05-17T20:06:39.387Z",
          "iopub.execute_input": "2020-05-17T20:06:39.398Z",
          "iopub.status.idle": "2020-05-17T20:06:40.699Z",
          "shell.execute_reply": "2020-05-17T20:06:40.780Z"
        }
      }
    },
    {
      "cell_type": "code",
      "source": [
        "percentile_99 = np.percentile(degree,99.9)\n",
        "print(percentile_99)"
      ],
      "outputs": [
        {
          "output_type": "stream",
          "name": "stdout",
          "text": [
            "332.05500000000757\n"
          ]
        }
      ],
      "execution_count": 11,
      "metadata": {
        "execution": {
          "iopub.status.busy": "2020-05-17T20:06:40.714Z",
          "iopub.execute_input": "2020-05-17T20:06:40.722Z",
          "iopub.status.idle": "2020-05-17T20:06:40.743Z",
          "shell.execute_reply": "2020-05-17T20:06:40.785Z"
        }
      }
    },
    {
      "cell_type": "code",
      "source": [
        "hub_nodi = [k for k,v in dict(twitter_d.degree()).items() if v>= percentile_99]\n",
        "print(len(hub_nodi))\n",
        "print(list(hub_nodi))"
      ],
      "outputs": [
        {
          "output_type": "stream",
          "name": "stdout",
          "text": [
            "37\n",
            "['MediasetTgcom24', 'you_trend', 'Adnkronos', 'Agenzia_Ansa', 'RadioSavana', 'benq_antonio', 'TarroGiulio', 'VittorioSgarbi', 'SkyTG24', 'repubblica', 'MedicalFactsIT', 'Corriere', 'Pontifex_it', 'CesareSacchetti', 'IlariaBifarini', 'ItalyQanons', 'NonVaccinato', 'Stefbazzi', 'ilpost', 'francescatotolo', 'LaStampa', 'matteosalvinimi', 'GiorgiaMeloni', 'DSantanche', 'giorgiamennuni', 'fattoquotidiano', 'molumbe', 'VNotKind', 'GiancarloDeRisi', 'matteorenzi', 'Cartabellotta', 'marco_gervasoni', 'jeperego', 'Pgreco_', 'GrimoldiPaolo', 'christianrocca', 'davcarretta']\n"
          ]
        }
      ],
      "execution_count": 12,
      "metadata": {
        "execution": {
          "iopub.status.busy": "2020-05-17T20:06:40.760Z",
          "iopub.execute_input": "2020-05-17T20:06:40.771Z",
          "iopub.status.idle": "2020-05-17T20:06:40.825Z",
          "shell.execute_reply": "2020-05-17T20:06:40.794Z"
        }
      }
    },
    {
      "cell_type": "code",
      "source": [
        "degree=dict(nx.degree(twitter_d))\n",
        "degree_centrality = nx.degree_centrality(twitter_d)\n",
        "closeness_centrality = nx.closeness_centrality(twitter_d)\n",
        "eigenvector_centrality = nx.eigenvector_centrality(twitter_d)\n",
        "\n",
        "# lambda function or anonimous function. no name, no return, no def, just use the keyword lambda\n",
        "# Sintax: lambda argument: manipulate(argument)\n",
        "hub_degree = sorted(degree_centrality.items(),key = lambda x:x[1], reverse=True)[0]\n",
        "hub_closeness = sorted(closeness_centrality.items(),key = lambda x:x[1], reverse=True)[0]\n",
        "hub_eigenvector = sorted(eigenvector_centrality.items(),key = lambda x:x[1], reverse=True)[0]\n",
        "print('degree:      ',hub_degree)\n",
        "print('closeness:   ',hub_closeness)\n",
        "print('eigenvector: ',hub_eigenvector)"
      ],
      "outputs": [
        {
          "output_type": "stream",
          "name": "stdout",
          "text": [
            "degree:       ('RadioSavana', 0.1632697252672892)\n",
            "closeness:    ('RadioSavana', 0.08487170409446092)\n",
            "eigenvector:  ('RadioSavana', 0.6272093284012229)\n"
          ]
        }
      ],
      "execution_count": 15,
      "metadata": {
        "collapsed": true,
        "outputExpanded": false,
        "jupyter": {
          "source_hidden": false,
          "outputs_hidden": false
        },
        "nteract": {
          "transient": {
            "deleting": false
          }
        },
        "execution": {
          "iopub.status.busy": "2020-05-17T20:09:41.829Z",
          "iopub.execute_input": "2020-05-17T20:09:41.890Z",
          "iopub.status.idle": "2020-05-17T20:10:52.899Z",
          "shell.execute_reply": "2020-05-17T20:10:52.910Z"
        }
      }
    },
    {
      "cell_type": "code",
      "source": [
        "print('Beware: betweenness centrality is valued for approximately 10% of the network, due to the sheer time needed for the calculation.')\n",
        "betweenness_centrality=nx.betweenness_centrality(twitter_d, k=3600)\n",
        "hub_betweenness = sorted(betweenness_centrality.items(),key = lambda x:x[1], reverse=True)[0]\n",
        "print('betweenness: ',hub_betweenness)"
      ],
      "outputs": [
        {
          "output_type": "stream",
          "name": "stdout",
          "text": [
            "betweenness:  ('Paolorm2012Roma', 0.003394127262866531)\n"
          ]
        }
      ],
      "execution_count": 28,
      "metadata": {
        "collapsed": true,
        "outputExpanded": false,
        "jupyter": {
          "source_hidden": false,
          "outputs_hidden": false
        },
        "nteract": {
          "transient": {
            "deleting": false
          }
        },
        "execution": {
          "iopub.status.busy": "2020-05-17T20:17:29.401Z",
          "iopub.execute_input": "2020-05-17T20:17:29.745Z",
          "iopub.status.idle": "2020-05-17T20:21:41.517Z",
          "shell.execute_reply": "2020-05-17T20:21:41.525Z"
        }
      }
    },
    {
      "cell_type": "code",
      "source": [
        "print('Transitivity: {}'.format(nx.transitivity(twitter_d)))\n",
        "print('Clustering: {}'.format(nx.clustering(twitter_d)))"
      ],
      "outputs": [
        {
          "output_type": "stream",
          "name": "stdout",
          "text": [
            "Transitivity: 0.030538634596011003\n"
          ]
        }
      ],
      "execution_count": 32,
      "metadata": {
        "collapsed": true,
        "outputExpanded": false,
        "jupyter": {
          "source_hidden": false,
          "outputs_hidden": false
        },
        "nteract": {
          "transient": {
            "deleting": false
          }
        },
        "execution": {
          "iopub.status.busy": "2020-05-17T20:29:26.343Z",
          "iopub.execute_input": "2020-05-17T20:29:26.381Z",
          "iopub.status.idle": "2020-05-17T20:29:28.155Z",
          "shell.execute_reply": "2020-05-17T20:29:28.172Z"
        }
      }
    }
  ],
  "metadata": {
    "kernelspec": {
      "display_name": "Python 3",
      "language": "python",
      "name": "python3"
    },
    "language_info": {
      "name": "python",
      "version": "3.7.6",
      "mimetype": "text/x-python",
      "codemirror_mode": {
        "name": "ipython",
        "version": 3
      },
      "pygments_lexer": "ipython3",
      "nbconvert_exporter": "python",
      "file_extension": ".py"
    },
    "nteract": {
      "version": "0.23.1"
    }
  },
  "nbformat": 4,
  "nbformat_minor": 4
}