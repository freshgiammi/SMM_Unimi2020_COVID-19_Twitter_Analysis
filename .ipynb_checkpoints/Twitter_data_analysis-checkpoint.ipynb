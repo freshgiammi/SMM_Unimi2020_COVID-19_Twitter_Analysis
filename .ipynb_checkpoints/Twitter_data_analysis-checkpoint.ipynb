{
 "cells": [
  {
   "cell_type": "code",
   "execution_count": 1,
   "metadata": {
    "execution": {
     "iopub.execute_input": "2020-05-19T20:29:55.997Z",
     "iopub.status.busy": "2020-05-19T20:29:55.984Z",
     "iopub.status.idle": "2020-05-19T20:29:58.483Z",
     "shell.execute_reply": "2020-05-19T20:29:58.535Z"
    }
   },
   "outputs": [
    {
     "name": "stdout",
     "output_type": "stream",
     "text": [
      "Are there user duplicates in the list? False\n",
      "We have a total of 35682 users and 127461 retweets.\n",
      "We calculate around 3.5721372120396837 tweets per user.\n",
      "Total unique users (OC+RT) detected: 40347\n"
     ]
    }
   ],
   "source": [
    "import json\n",
    "import networkx as nx\n",
    "import pandas as pd\n",
    "import numpy as np\n",
    "import random\n",
    "import imgkit\n",
    "import os\n",
    "import matplotlib.pyplot as plt\n",
    "import scipy.stats\n",
    "import community as community_louvain\n",
    "from statsmodels.distributions.empirical_distribution import ECDF\n",
    "\n",
    "dataset = json.load(open('datasets/dataset.json'))\n",
    " \n",
    "totaltweets = 0\n",
    "totalusers = len(dataset)\n",
    "totalrt = 0\n",
    "userlist = list()\n",
    "realusers = list()\n",
    "\n",
    "usernames = list()\n",
    "for user in dataset:\n",
    "    userlist.append(user['handle'])\n",
    "    realusers.append(user['handle'])\n",
    "    totaltweets = totaltweets + len(user['tweets'])\n",
    "    for tweet in user['tweets']:\n",
    "        realusers.append(list(tweet['retweeted_from'].keys())[0])\n",
    "\n",
    "print(\"Are there user duplicates in the list? \"+str(len(userlist) != len(set(userlist))))\n",
    "print(\"We have a total of \"+str(totalusers)+\" users and \"+str(totaltweets)+\" retweets.\")\n",
    "print(\"We calculate around \"+str(totaltweets/totalusers)+\" tweets per user.\")\n",
    "\n",
    "realusers = list(dict.fromkeys(realusers))\n",
    "print(\"Total unique users (OC+RT) detected: \"+str(len(realusers)))"
   ]
  },
  {
   "cell_type": "code",
   "execution_count": 2,
   "metadata": {
    "execution": {
     "iopub.execute_input": "2020-05-19T20:29:59.631Z",
     "iopub.status.busy": "2020-05-19T20:29:59.607Z",
     "iopub.status.idle": "2020-05-19T20:30:00.585Z",
     "shell.execute_reply": "2020-05-19T20:30:00.619Z"
    }
   },
   "outputs": [
    {
     "name": "stdout",
     "output_type": "stream",
     "text": [
      "Generating edge list... Done.\n",
      "Preformatted nodes: 40261\n",
      "Removing nodes outside of Giant Component... 3315 nodes removed.\n",
      "Number of nodes: 36946\n",
      "Number of links: 84807\n",
      "Density: 6.213103721248901e-05\n"
     ]
    }
   ],
   "source": [
    "print(\"Generating edge list...\", end=\" \")\n",
    "twitter_d = nx.DiGraph()\n",
    "for user in dataset:\n",
    "    username = user['handle']\n",
    "    for tweet in user['tweets']:\n",
    "        rt_oc_user = list(tweet['retweeted_from'].keys())[0]\n",
    "        link = (username,rt_oc_user)\n",
    "        if username == rt_oc_user:\n",
    "            continue #User is retweeting himself; avoid self-loops\n",
    "        twitter_d.add_edge(username, rt_oc_user)\n",
    "print(\"Done.\")\n",
    "print('Preformatted nodes: {}'.format(twitter_d.order()))\n",
    "\n",
    "print('Removing nodes outside of Giant Component...', end='')\n",
    "weak_nodes = max(nx.weakly_connected_components(twitter_d), key=len)\n",
    "nodelist = list()\n",
    "for n in twitter_d.nodes():\n",
    "    if n not in weak_nodes:\n",
    "      nodelist.append(n)\n",
    "twitter_d.remove_nodes_from(nodelist)\n",
    "print(' '+str(len(nodelist))+ ' nodes removed.')\n",
    "\n",
    "print('Number of nodes: {}'.format(twitter_d.order()))\n",
    "print('Number of links: {}'.format(twitter_d.size()))\n",
    "density = nx.density(twitter_d)\n",
    "print('Density: {}'.format(density))"
   ]
  },
  {
   "cell_type": "code",
   "execution_count": 3,
   "metadata": {
    "execution": {
     "iopub.execute_input": "2020-05-19T22:58:14.816Z",
     "iopub.status.busy": "2020-05-19T22:58:14.797Z",
     "iopub.status.idle": "2020-05-19T22:58:15.637Z",
     "shell.execute_reply": "2020-05-19T22:58:15.668Z"
    }
   },
   "outputs": [
    {
     "name": "stdout",
     "output_type": "stream",
     "text": [
      "Loading page (1/2)\r\n",
      "[>                                                           ] 0%\r",
      "[======>                                                     ] 10%\r",
      "[==============================>                             ] 50%\r",
      "[============================================================] 100%\r",
      "Rendering (2/2)                                                    \r\n",
      "[>                                                           ] 0%\r",
      "[===============>                                            ] 25%\r",
      "[============================================================] 100%\r",
      "Done                                                               \r\n"
     ]
    },
    {
     "data": {
      "text/html": [
       "<div>\n",
       "<style scoped>\n",
       "    .dataframe tbody tr th:only-of-type {\n",
       "        vertical-align: middle;\n",
       "    }\n",
       "\n",
       "    .dataframe tbody tr th {\n",
       "        vertical-align: top;\n",
       "    }\n",
       "\n",
       "    .dataframe thead th {\n",
       "        text-align: right;\n",
       "    }\n",
       "</style>\n",
       "<table border=\"1\" class=\"dataframe\">\n",
       "  <thead>\n",
       "    <tr style=\"text-align: right;\">\n",
       "      <th></th>\n",
       "      <th>Degree Type</th>\n",
       "      <th>Max</th>\n",
       "      <th>Min</th>\n",
       "      <th>Mean</th>\n",
       "      <th>Standard Deviation</th>\n",
       "      <th>Median</th>\n",
       "    </tr>\n",
       "  </thead>\n",
       "  <tbody>\n",
       "    <tr>\n",
       "      <th>0</th>\n",
       "      <td>Overall</td>\n",
       "      <td>6032</td>\n",
       "      <td>1</td>\n",
       "      <td>4.590862</td>\n",
       "      <td>39.908668</td>\n",
       "      <td>1.0</td>\n",
       "    </tr>\n",
       "    <tr>\n",
       "      <th>1</th>\n",
       "      <td>In-Degree</td>\n",
       "      <td>6032</td>\n",
       "      <td>0</td>\n",
       "      <td>2.295431</td>\n",
       "      <td>39.663015</td>\n",
       "      <td>0.0</td>\n",
       "    </tr>\n",
       "    <tr>\n",
       "      <th>2</th>\n",
       "      <td>Out-Degree</td>\n",
       "      <td>198</td>\n",
       "      <td>0</td>\n",
       "      <td>2.295431</td>\n",
       "      <td>4.215178</td>\n",
       "      <td>1.0</td>\n",
       "    </tr>\n",
       "  </tbody>\n",
       "</table>\n",
       "</div>"
      ],
      "text/plain": [
       "  Degree Type   Max  Min      Mean  Standard Deviation  Median\n",
       "0     Overall  6032    1  4.590862           39.908668     1.0\n",
       "1   In-Degree  6032    0  2.295431           39.663015     0.0\n",
       "2  Out-Degree   198    0  2.295431            4.215178     1.0"
      ]
     },
     "execution_count": 3,
     "metadata": {},
     "output_type": "execute_result"
    }
   ],
   "source": [
    "degree = list(dict(twitter_d.degree()).values())\n",
    "in_degree = list(dict(twitter_d.in_degree()).values())\n",
    "out_degree = list(dict(twitter_d.out_degree()).values())\n",
    "\n",
    "dt = ({'Degree Type':'Overall','Max':np.max(degree),'Min':np.min(degree),'Mean':np.mean(degree),'Standard Deviation':np.std(degree),'Median':np.median(degree)},\n",
    "{'Degree Type':'In-Degree','Max':np.max(in_degree),'Min':np.min(in_degree),'Mean':np.mean(in_degree),'Standard Deviation':np.std(in_degree),'Median':np.median(in_degree)},\n",
    "{'Degree Type':'Out-Degree','Max':np.max(out_degree),'Min':np.min(out_degree),'Mean':np.mean(out_degree),'Standard Deviation':np.std(out_degree),'Median':np.median(out_degree)})\n",
    "df = pd.DataFrame(dt)\n",
    "\n",
    "\n",
    "## Enter your css for the table.\n",
    "css = \"\"\"\n",
    "<style type=\\\"text/css\\\">\n",
    "table {\n",
    "color: #333;\n",
    "font-family: Helvetica, Arial, sans-serif;\n",
    "width: 1000px;\n",
    "border-collapse:\n",
    "collapse; \n",
    "border-spacing: 0;\n",
    "}\n",
    "\n",
    "td, th {\n",
    "border: 1px solid transparent; /* No more visible border */\n",
    "height: 30px;\n",
    "}\n",
    "\n",
    "th {\n",
    "background: #DFDFDF; /* Darken header a bit */\n",
    "font-weight: bold;\n",
    "text-align: left;\n",
    "}\n",
    "\n",
    "td {\n",
    "background: #FAFAFA;\n",
    "text-align: left;\n",
    "}\n",
    "\n",
    "table tr:nth-child(odd) td{\n",
    "background-color: white;\n",
    "}\n",
    "</style>\n",
    "\"\"\"\n",
    "def DataFrame_to_image(data, css, outputfile=\"degree.png\", format=\"png\"):\n",
    "    '''\n",
    "    For rendering a Pandas DataFrame as an image.\n",
    "    data: a pandas DataFrame\n",
    "    css: a string containing rules for styling the output table. This must \n",
    "         contain both the opening an closing <style> tags.\n",
    "    *outputimage: filename for saving of generated image\n",
    "    *format: output format, as supported by IMGKit. Default is \"png\"\n",
    "    '''\n",
    "    fn = str(random.random()*100000000).split(\".\")[0] + \".html\"\n",
    "    \n",
    "    try:\n",
    "        os.remove(fn)\n",
    "    except:\n",
    "        None\n",
    "    text_file = open(fn, \"a\")\n",
    "    \n",
    "    # write the CSS\n",
    "    text_file.write(css)\n",
    "    # write the HTML-ized Pandas DataFrame\n",
    "    text_file.write(data.to_html())\n",
    "    text_file.close()\n",
    "    \n",
    "    # See IMGKit options for full configuration,\n",
    "    # e.g. cropping of final image\n",
    "    imgkitoptions = {\"format\": format}\n",
    "    \n",
    "    imgkit.from_file(fn, outputfile, options=imgkitoptions)\n",
    "    os.remove(fn)\n",
    "    \n",
    "    \n",
    "DataFrame_to_image(df, css)\n",
    "\n",
    "df #Prints previously generated DataFrame\n"
   ]
  },
  {
   "cell_type": "code",
   "execution_count": 4,
   "metadata": {
    "execution": {
     "iopub.execute_input": "2020-05-19T20:38:02.839Z",
     "iopub.status.busy": "2020-05-19T20:38:02.828Z",
     "iopub.status.idle": "2020-05-19T20:38:03.109Z",
     "shell.execute_reply": "2020-05-19T20:38:03.141Z"
    }
   },
   "outputs": [
    {
     "data": {
      "text/plain": [
       "Text(0, 0.5, 'ECDF')"
      ]
     },
     "execution_count": 4,
     "metadata": {},
     "output_type": "execute_result"
    },
    {
     "data": {
      "image/png": "[encoded data removed]",
      "text/plain": [
       "<Figure size 1152x576 with 1 Axes>"
      ]
     },
     "metadata": {
      "needs_background": "light"
     },
     "output_type": "display_data"
    }
   ],
   "source": [
    "# ECDF linear scale\n",
    "cdf = ECDF(degree)\n",
    "x = np.unique(degree)\n",
    "y = cdf(x)\n",
    "fig_cdf = plt.figure(figsize=(16,8))\n",
    "axes = fig_cdf.gca()\n",
    "axes.plot(x,y,marker='o',ms=6, linestyle='None')\n",
    "axes.set_xlabel('Degree',size=20)\n",
    "axes.set_ylabel('ECDF', size = 20)"
   ]
  },
  {
   "cell_type": "code",
   "execution_count": 5,
   "metadata": {
    "execution": {
     "iopub.execute_input": "2020-05-19T20:38:25.868Z",
     "iopub.status.busy": "2020-05-19T20:38:25.855Z",
     "iopub.status.idle": "2020-05-19T20:38:26.686Z",
     "shell.execute_reply": "2020-05-19T20:38:26.719Z"
    }
   },
   "outputs": [
    {
     "data": {
      "text/plain": [
       "Text(0, 0.5, 'ECDF')"
      ]
     },
     "execution_count": 5,
     "metadata": {},
     "output_type": "execute_result"
    },
    {
     "data": {
      "image/png": "[encoded data removed]",
      "text/plain": [
       "<Figure size 1152x576 with 1 Axes>"
      ]
     },
     "metadata": {
      "needs_background": "light"
     },
     "output_type": "display_data"
    }
   ],
   "source": [
    "# ECDF loglog scale\n",
    "cdf = ECDF(degree)\n",
    "x = np.unique(degree)\n",
    "y = cdf(x)\n",
    "fig_cdf = plt.figure(figsize=(16,8))\n",
    "axes = fig_cdf.gca()\n",
    "axes.loglog(x,y,marker='o',ms=8, linestyle='--')\n",
    "axes.set_xlabel('Degree',size=20)\n",
    "axes.set_ylabel('ECDF', size=20)"
   ]
  },
  {
   "cell_type": "code",
   "execution_count": 6,
   "metadata": {
    "execution": {
     "iopub.execute_input": "2020-05-19T20:40:14.865Z",
     "iopub.status.busy": "2020-05-19T20:40:14.850Z",
     "iopub.status.idle": "2020-05-19T20:40:15.808Z",
     "shell.execute_reply": "2020-05-19T20:40:15.838Z"
    }
   },
   "outputs": [
    {
     "data": {
      "text/plain": [
       "Text(0, 0.5, 'ECCDF')"
      ]
     },
     "execution_count": 6,
     "metadata": {},
     "output_type": "execute_result"
    },
    {
     "data": {
      "image/png": "[encoded data removed]",
      "text/plain": [
       "<Figure size 1152x576 with 1 Axes>"
      ]
     },
     "metadata": {
      "needs_background": "light"
     },
     "output_type": "display_data"
    }
   ],
   "source": [
    "#ECCDF in loglog scale\n",
    "cdf = ECDF(degree)\n",
    "x = np.unique(degree)\n",
    "y = cdf(x)\n",
    "fig_cdf = plt.figure(figsize=(16,8))\n",
    "axes = fig_cdf.gca()\n",
    "axes.loglog(x,1-y,marker='o',ms=8, linestyle='--')\n",
    "axes.set_xlabel('Degree',size=20)\n",
    "axes.set_ylabel('ECCDF', size=20)"
   ]
  },
  {
   "cell_type": "code",
   "execution_count": 7,
   "metadata": {
    "execution": {
     "iopub.execute_input": "2020-05-19T20:29:18.704Z",
     "iopub.status.busy": "2020-05-19T20:29:18.694Z",
     "iopub.status.idle": "2020-05-19T20:29:19.749Z",
     "shell.execute_reply": "2020-05-19T20:29:19.783Z"
    }
   },
   "outputs": [
    {
     "data": {
      "image/png": "[encoded data removed]",
      "text/plain": [
       "<Figure size 1152x576 with 1 Axes>"
      ]
     },
     "metadata": {
      "needs_background": "light"
     },
     "output_type": "display_data"
    }
   ],
   "source": [
    "# ECCDF in-degree\n",
    "cdf = ECDF(in_degree)\n",
    "x = np.unique(in_degree)\n",
    "y = cdf(x)\n",
    "fig_cdf = plt.figure(figsize=(16,8))\n",
    "axes = fig_cdf.gca()\n",
    "axes.loglog(x,1-y,marker='o',ms=8,label='In-degree')\n",
    "cdf = ECDF(out_degree)\n",
    "x = np.unique(out_degree)\n",
    "y = cdf(x)\n",
    "axes.loglog(x,1-y,marker='+',ms=\n",
    "            8,label='Out-degree')\n",
    "axes.set_xlabel('in, out-Degree',size=20)\n",
    "axes.set_ylabel('ECCDF', size=20)\n",
    "axes.legend()\n",
    "fig_cdf.savefig('eccdfconfronto.png')"
   ]
  },
  {
   "cell_type": "code",
   "execution_count": 8,
   "metadata": {
    "execution": {
     "iopub.execute_input": "2020-05-19T21:32:37.588Z",
     "iopub.status.busy": "2020-05-19T21:32:37.576Z",
     "iopub.status.idle": "2020-05-19T21:32:38.929Z",
     "shell.execute_reply": "2020-05-19T21:32:38.961Z"
    },
    "jupyter": {
     "outputs_hidden": false,
     "source_hidden": false
    },
    "nteract": {
     "transient": {
      "deleting": false
     }
    },
    "outputExpanded": false
   },
   "outputs": [
    {
     "name": "stdout",
     "output_type": "stream",
     "text": [
      "Number of nodes: 36946\n",
      "Number of links: 42148\n"
     ]
    },
    {
     "data": {
      "image/png": "[encoded data removed]",
      "text/plain": [
       "<Figure size 1152x576 with 1 Axes>"
      ]
     },
     "metadata": {
      "needs_background": "light"
     },
     "output_type": "display_data"
    }
   ],
   "source": [
    "p = density\n",
    "random_graph = nx.fast_gnp_random_graph(twitter_d.order(),p)\n",
    "print('Number of nodes: {}'.format(random_graph.order()))\n",
    "print('Number of links: {}'.format(random_graph.size()))\n",
    "random_degree = list(dict(random_graph.degree()).values())\n",
    "cdf = ECDF(degree)\n",
    "x = np.unique(degree)\n",
    "y = cdf(x)\n",
    "\n",
    "cdf_random = ECDF(random_degree)\n",
    "x_random = np.unique(random_degree)\n",
    "y_random = cdf_random(x_random)\n",
    "\n",
    "fig_cdf_2 = plt.figure(figsize=(16,8))\n",
    "axes = fig_cdf_2.gca()\n",
    "axes.set_xscale('log')\n",
    "axes.set_yscale('log')\n",
    "axes.loglog(x,1-y,marker='o',ms=8, linestyle='--',label='Real Network')\n",
    "axes.loglog(x_random,1-y_random,marker='+',ms=10, linestyle='--',label='Erdos-Renyi model')\n",
    "axes.set_xlabel('Degree',size=20)\n",
    "axes.set_ylabel('ECCDF', size = 20)\n",
    "axes.legend()\n",
    "fig_cdf_2.savefig('eccdfrealrandom.png')"
   ]
  },
  {
   "cell_type": "code",
   "execution_count": 9,
   "metadata": {
    "execution": {
     "iopub.execute_input": "2020-05-19T20:57:04.021Z",
     "iopub.status.busy": "2020-05-19T20:57:04.002Z",
     "iopub.status.idle": "2020-05-19T20:57:07.053Z",
     "shell.execute_reply": "2020-05-19T20:57:07.084Z"
    },
    "jupyter": {
     "outputs_hidden": false,
     "source_hidden": false
    },
    "nteract": {
     "transient": {
      "deleting": false
     }
    },
    "outputExpanded": false
   },
   "outputs": [
    {
     "name": "stdout",
     "output_type": "stream",
     "text": [
      "Graph is weakly connected\n",
      "Number of weakly connected components: 1\n",
      "Graph is not strongly connected.\n",
      "Number of strongly connected components: 36527\n",
      "Overall reciprocity: 0.00393835414529461\n"
     ]
    }
   ],
   "source": [
    "print('Graph is weakly connected') if nx.is_weakly_connected(twitter_d) else print('Graph is not weakly connected.')\n",
    "print('Number of weakly connected components: {}'.format(nx.number_weakly_connected_components(twitter_d)))\n",
    "print('Graph is strongly connected') if nx.is_strongly_connected(twitter_d) else print('Graph is not strongly connected.')\n",
    "print('Number of strongly connected components: {}'.format(nx.number_strongly_connected_components(twitter_d)))\n",
    "print('Overall reciprocity: {}'.format(nx.overall_reciprocity(twitter_d)))"
   ]
  },
  {
   "cell_type": "code",
   "execution_count": 10,
   "metadata": {
    "execution": {
     "iopub.execute_input": "2020-05-19T21:37:57.268Z",
     "iopub.status.busy": "2020-05-19T21:37:57.259Z",
     "iopub.status.idle": "2020-05-19T21:37:57.289Z",
     "shell.execute_reply": "2020-05-19T21:37:57.298Z"
    }
   },
   "outputs": [
    {
     "name": "stdout",
     "output_type": "stream",
     "text": [
      "Degree of nodes (hubs) above 99th percentile: 332.05500000000757\n"
     ]
    }
   ],
   "source": [
    "percentile_99 = np.percentile(degree,99.9)\n",
    "print('Degree of nodes (hubs) above 99th percentile: {}'.format(percentile_99))"
   ]
  },
  {
   "cell_type": "code",
   "execution_count": 11,
   "metadata": {
    "execution": {
     "iopub.execute_input": "2020-05-19T20:19:54.676Z",
     "iopub.status.busy": "2020-05-19T20:19:54.664Z",
     "iopub.status.idle": "2020-05-19T20:19:54.703Z",
     "shell.execute_reply": "2020-05-19T20:19:54.794Z"
    }
   },
   "outputs": [
    {
     "name": "stdout",
     "output_type": "stream",
     "text": [
      "37\n",
      "['MediasetTgcom24', 'you_trend', 'Adnkronos', 'Agenzia_Ansa', 'RadioSavana', 'benq_antonio', 'TarroGiulio', 'VittorioSgarbi', 'SkyTG24', 'repubblica', 'MedicalFactsIT', 'Corriere', 'Pontifex_it', 'CesareSacchetti', 'IlariaBifarini', 'ItalyQanons', 'NonVaccinato', 'Stefbazzi', 'ilpost', 'francescatotolo', 'LaStampa', 'matteosalvinimi', 'GiorgiaMeloni', 'DSantanche', 'giorgiamennuni', 'fattoquotidiano', 'molumbe', 'VNotKind', 'GiancarloDeRisi', 'matteorenzi', 'Cartabellotta', 'marco_gervasoni', 'jeperego', 'Pgreco_', 'GrimoldiPaolo', 'christianrocca', 'davcarretta']\n"
     ]
    }
   ],
   "source": [
    "hub_nodi = [k for k,v in dict(twitter_d.degree()).items() if v>= percentile_99]\n",
    "print(len(hub_nodi))\n",
    "print(list(hub_nodi))"
   ]
  },
  {
   "cell_type": "code",
   "execution_count": 12,
   "metadata": {
    "execution": {
     "iopub.execute_input": "2020-05-19T20:19:54.735Z",
     "iopub.status.busy": "2020-05-19T20:19:54.722Z",
     "iopub.status.idle": "2020-05-19T20:20:13.087Z",
     "shell.execute_reply": "2020-05-19T20:20:13.113Z"
    },
    "jupyter": {
     "outputs_hidden": false,
     "source_hidden": false
    },
    "nteract": {
     "transient": {
      "deleting": false
     }
    },
    "outputExpanded": false
   },
   "outputs": [
    {
     "name": "stdout",
     "output_type": "stream",
     "text": [
      "Transitivity: 0.030538634596011003\n",
      "Average clustering: 0.020231763272201532\n",
      "Mean local clustering: 0.020231763272201535\n",
      "Standard deviation local clustering: 0.08245886535992575\n"
     ]
    }
   ],
   "source": [
    "print('Transitivity: {}'.format(nx.transitivity(twitter_d)))\n",
    "print('Average clustering: {}'.format(nx.average_clustering(twitter_d)))\n",
    "#TODO: This is the same as the average clustering! Should we keep this?\n",
    "print('Mean local clustering: {}'.format(np.mean(list(nx.clustering(twitter_d).values()))))\n",
    "print('Standard deviation local clustering: {}'.format(np.std(list(nx.clustering(twitter_d).values()))))"
   ]
  },
  {
   "cell_type": "code",
   "execution_count": 13,
   "metadata": {
    "execution": {
     "iopub.execute_input": "2020-05-19T20:20:13.149Z",
     "iopub.status.busy": "2020-05-19T20:20:13.128Z",
     "iopub.status.idle": "2020-05-19T20:25:02.798Z",
     "shell.execute_reply": "2020-05-19T20:25:02.890Z"
    },
    "jupyter": {
     "outputs_hidden": false,
     "source_hidden": false
    },
    "nteract": {
     "transient": {
      "deleting": false
     }
    },
    "outputExpanded": false
   },
   "outputs": [
    {
     "name": "stdout",
     "output_type": "stream",
     "text": [
      "degree:       ('RadioSavana', 0.1632697252672892)\n",
      "closeness:    ('RadioSavana', 0.08487170409446092)\n",
      "eigenvector:  ('RadioSavana', 0.6272093284012229)\n",
      "\n",
      "Computing betweenness centrality for:\n",
      "Name: \n",
      "Type: DiGraph\n",
      "Number of nodes: 36946\n",
      "Number of edges: 84807\n",
      "Average in degree:   2.2954\n",
      "Average out degree:   2.2954\n",
      "\tParallel version\n",
      "\t\tTime: 284.3114 seconds\n",
      "betweenness:  ('Paolorm2012Roma', 0.0032805880627740035)\n"
     ]
    }
   ],
   "source": [
    "degree=dict(nx.degree(twitter_d))\n",
    "degree_centrality = nx.degree_centrality(twitter_d)\n",
    "closeness_centrality = nx.closeness_centrality(twitter_d)\n",
    "eigenvector_centrality = nx.eigenvector_centrality(twitter_d)\n",
    "\n",
    "# lambda function or anonimous function. no name, no return, no def, just use the keyword lambda\n",
    "# Sintax: lambda argument: manipulate(argument)\n",
    "hub_degree = sorted(degree_centrality.items(),key = lambda x:x[1], reverse=True)[0]\n",
    "hub_closeness = sorted(closeness_centrality.items(),key = lambda x:x[1], reverse=True)[0]\n",
    "hub_eigenvector = sorted(eigenvector_centrality.items(),key = lambda x:x[1], reverse=True)[0]\n",
    "print('degree:      ',hub_degree)\n",
    "print('closeness:   ',hub_closeness)\n",
    "print('eigenvector: ',hub_eigenvector)\n",
    "#print('Beware: betweenness centrality is valued for approximately 10% of the network, due to the sheer time needed for the calculation.')\n",
    "#betweenness_centrality=nx.betweenness_centrality(twitter_d, k=3600)\n",
    "#hub_betweenness = sorted(betweenness_centrality.items(),key = lambda x:x[1], reverse=True)[0]\n",
    "#print('betweenness: ',hub_betweenness)\n",
    "\n",
    "#--- BETWEENNESS CENTRALITY MULTIPROCESSING ---#\n",
    "from multiprocessing import Pool\n",
    "import time\n",
    "import itertools\n",
    "\n",
    "def chunks(l, n):\n",
    "    \"\"\"Divide a list of nodes `l` in `n` chunks\"\"\"\n",
    "    l_c = iter(l)\n",
    "    while 1:\n",
    "        x = tuple(itertools.islice(l_c, n))\n",
    "        if not x:\n",
    "            return\n",
    "        yield x\n",
    "\n",
    "\n",
    "def betweenness_centrality_parallel(G, processes=None):\n",
    "    \"\"\"Parallel betweenness centrality  function\"\"\"\n",
    "    p = Pool(processes=processes)\n",
    "    node_divisor = len(p._pool) * 4\n",
    "    node_chunks = list(chunks(G.nodes(), int(G.order() / node_divisor)))\n",
    "    num_chunks = len(node_chunks)\n",
    "    bt_sc = p.starmap(\n",
    "        nx.betweenness_centrality_source,\n",
    "        zip([G] * num_chunks, [True] * num_chunks, [None] * num_chunks, node_chunks),\n",
    "    )\n",
    "\n",
    "    # Reduce the partial solutions\n",
    "    bt_c = bt_sc[0]\n",
    "    for bt in bt_sc[1:]:\n",
    "        for n in bt:\n",
    "            bt_c[n] += bt[n]\n",
    "    return bt_c\n",
    "\n",
    "\n",
    "print(\"\")\n",
    "print(\"Computing betweenness centrality for:\")\n",
    "print(nx.info(twitter_d))\n",
    "print(\"\\tParallel version\")\n",
    "start = time.time()\n",
    "betweenness_centrality = betweenness_centrality_parallel(twitter_d)\n",
    "print(f\"\\t\\tTime: {(time.time() - start):.4F} seconds\")\n",
    "#--- BETWEENNESS CENTRALITY MULTIPROCESSING ---#\n",
    "\n",
    "hub_betweenness = sorted(betweenness_centrality.items(),key = lambda x:x[1], reverse=True)[0]\n",
    "print('betweenness: ',hub_betweenness)"
   ]
  },
  {
   "cell_type": "code",
   "execution_count": 14,
   "metadata": {
    "execution": {
     "iopub.execute_input": "2020-05-19T20:25:02.837Z",
     "iopub.status.busy": "2020-05-19T20:25:02.822Z",
     "iopub.status.idle": "2020-05-19T20:25:03.557Z",
     "shell.execute_reply": "2020-05-19T20:25:03.570Z"
    },
    "jupyter": {
     "outputs_hidden": false,
     "source_hidden": false
    },
    "nteract": {
     "transient": {
      "deleting": false
     }
    },
    "outputExpanded": false
   },
   "outputs": [],
   "source": [
    "in_degree_centrality = dict(twitter_d.in_degree())\n",
    "out_degree_centrality = dict(twitter_d.out_degree())\n",
    "pr_centrality = dict(nx.pagerank_scipy(twitter_d))"
   ]
  },
  {
   "cell_type": "code",
   "execution_count": 15,
   "metadata": {
    "execution": {
     "iopub.execute_input": "2020-05-19T20:25:03.625Z",
     "iopub.status.busy": "2020-05-19T20:25:03.614Z",
     "iopub.status.idle": "2020-05-19T20:25:03.645Z",
     "shell.execute_reply": "2020-05-19T20:25:03.766Z"
    },
    "jupyter": {
     "outputs_hidden": false,
     "source_hidden": false
    },
    "nteract": {
     "transient": {
      "deleting": false
     }
    },
    "outputExpanded": false
   },
   "outputs": [
    {
     "name": "stdout",
     "output_type": "stream",
     "text": [
      "in_degree:   ('RadioSavana', 6032)\n",
      "out_degree:  ('generacomplotti', 198)\n",
      "pagerank:    ('RadioSavana', 0.04313068309436492)\n"
     ]
    }
   ],
   "source": [
    "hub_in_degree = sorted(in_degree_centrality.items(),key= lambda x:x[1], reverse=True)[0]\n",
    "hub_out_degree = sorted(out_degree_centrality.items(),key= lambda x:x[1], reverse=True)[0]\n",
    "hub_pagerank = sorted(pr_centrality.items(),key= lambda x:x[1], reverse=True)[0]\n",
    "\n",
    "print('in_degree:  ',hub_in_degree)\n",
    "print('out_degree: ',hub_out_degree)\n",
    "print('pagerank:   ',hub_pagerank)"
   ]
  },
  {
   "cell_type": "code",
   "execution_count": 16,
   "metadata": {
    "execution": {
     "iopub.execute_input": "2020-05-19T20:25:03.680Z",
     "iopub.status.busy": "2020-05-19T20:25:03.664Z",
     "iopub.status.idle": "2020-05-19T20:25:03.706Z",
     "shell.execute_reply": "2020-05-19T20:25:03.773Z"
    },
    "jupyter": {
     "outputs_hidden": false,
     "source_hidden": false
    },
    "nteract": {
     "transient": {
      "deleting": false
     }
    },
    "outputExpanded": false
   },
   "outputs": [
    {
     "name": "stdout",
     "output_type": "stream",
     "text": [
      "(0.005321517802032209, 0.3063836029835979)\n",
      "(0.9547398743226766, 0.0)\n",
      "(-0.003435729810007406, 0.5090144991084367)\n"
     ]
    }
   ],
   "source": [
    "print(scipy.stats.pearsonr(list(in_degree_centrality.values()),list(out_degree_centrality.values())))\n",
    "print(scipy.stats.pearsonr(list(in_degree_centrality.values()),list(pr_centrality.values())))\n",
    "print(scipy.stats.pearsonr(list(out_degree_centrality.values()),list(pr_centrality.values())))"
   ]
  },
  {
   "cell_type": "code",
   "execution_count": 17,
   "metadata": {
    "execution": {
     "iopub.execute_input": "2020-05-19T20:25:03.735Z",
     "iopub.status.busy": "2020-05-19T20:25:03.723Z",
     "iopub.status.idle": "2020-05-19T20:25:04.914Z",
     "shell.execute_reply": "2020-05-19T20:25:04.964Z"
    },
    "jupyter": {
     "outputs_hidden": false,
     "source_hidden": false
    },
    "nteract": {
     "transient": {
      "deleting": false
     }
    },
    "outputExpanded": false
   },
   "outputs": [
    {
     "data": {
      "text/plain": [
       "Text(0, 0.5, 'Out_degree')"
      ]
     },
     "execution_count": 17,
     "metadata": {},
     "output_type": "execute_result"
    },
    {
     "data": {
      "image/png": "[encoded data removed]",
      "text/plain": [
       "<Figure size 1152x576 with 1 Axes>"
      ]
     },
     "metadata": {
      "needs_background": "light"
     },
     "output_type": "display_data"
    }
   ],
   "source": [
    "fig = plt.figure(figsize=(16,8)) \n",
    "axes = fig.gca()\n",
    "plt.scatter(list(in_degree_centrality.values()),list(out_degree_centrality.values()))\n",
    "axes.set_xlabel('In_degree',size = 20)\n",
    "axes.set_ylabel('Out_degree',size = 20)"
   ]
  },
  {
   "cell_type": "code",
   "execution_count": 41,
   "metadata": {
    "execution": {
     "iopub.execute_input": "2020-05-19T20:25:04.945Z",
     "iopub.status.busy": "2020-05-19T20:25:04.931Z",
     "iopub.status.idle": "2020-05-19T20:25:21.510Z",
     "shell.execute_reply": "2020-05-19T20:25:21.659Z"
    },
    "jupyter": {
     "outputs_hidden": false,
     "source_hidden": false
    },
    "nteract": {
     "transient": {
      "deleting": false
     }
    },
    "outputExpanded": false
   },
   "outputs": [
    {
     "name": "stdout",
     "output_type": "stream",
     "text": [
      "Degree assortativity coefficient: -0.1103388532309484\n",
      "ASP: 4.589826807691601\n"
     ]
    }
   ],
   "source": [
    "print('Degree assortativity coefficient: {}'.format(nx.degree_assortativity_coefficient(twitter_d)))\n",
    "print('ASP: {}'.format(nx.average_shortest_path_length(twitter_d.to_undirected())))"
   ]
  },
  {
   "cell_type": "code",
   "execution_count": 43,
   "metadata": {},
   "outputs": [
    {
     "name": "stdout",
     "output_type": "stream",
     "text": [
      "Community 8, size: 9702\n",
      "Community 1, size: 5138\n",
      "Community 7, size: 3126\n",
      "Community 5, size: 2959\n",
      "Community 12, size: 2484\n",
      "Community 4, size: 1974\n",
      "Community 0, size: 1804\n",
      "Community 9, size: 1724\n",
      "Community 30, size: 1123\n",
      "Community 10, size: 687\n",
      "Community 16, size: 559\n",
      "Community 22, size: 505\n",
      "Community 15, size: 450\n",
      "Community 23, size: 406\n",
      "Community 24, size: 376\n",
      "Community 29, size: 335\n",
      "Community 20, size: 322\n",
      "Community 11, size: 305\n",
      "Community 13, size: 293\n",
      "Community 14, size: 280\n",
      "Community 2, size: 273\n",
      "Community 21, size: 239\n",
      "Community 6, size: 233\n",
      "Community 44, size: 225\n",
      "Community 3, size: 198\n",
      "Community 17, size: 183\n",
      "Community 19, size: 163\n",
      "Community 26, size: 153\n",
      "Community 32, size: 149\n",
      "Community 18, size: 119\n",
      "Community 64, size: 102\n",
      "Community 41, size: 30\n",
      "Community 52, size: 24\n",
      "Community 43, size: 19\n",
      "Community 35, size: 18\n",
      "Community 42, size: 16\n",
      "Community 25, size: 15\n",
      "Community 37, size: 15\n",
      "Community 45, size: 14\n",
      "Community 54, size: 14\n",
      "Community 51, size: 13\n",
      "Community 55, size: 13\n",
      "Community 31, size: 12\n",
      "Community 47, size: 11\n",
      "Community 50, size: 10\n",
      "Community 61, size: 10\n",
      "Community 36, size: 9\n",
      "Community 40, size: 9\n",
      "Community 49, size: 9\n",
      "Community 53, size: 9\n",
      "Community 33, size: 7\n",
      "Community 34, size: 7\n",
      "Community 38, size: 7\n",
      "Community 39, size: 7\n",
      "Community 62, size: 7\n",
      "Community 27, size: 6\n",
      "Community 28, size: 6\n",
      "Community 56, size: 6\n",
      "Community 63, size: 6\n",
      "Community 46, size: 5\n",
      "Community 57, size: 5\n",
      "Community 58, size: 4\n",
      "Community 59, size: 4\n",
      "Community 60, size: 4\n",
      "Community 48, size: 3\n",
      "Community 65, size: 3\n",
      "Communities detected: 66\n",
      "Modularity: 0.6143146274776347\n"
     ]
    }
   ],
   "source": [
    "partition = community_louvain.best_partition(twitter_d.to_undirected(),randomize=True,resolution=1.0)\n",
    "communities = {}\n",
    "for i in set(partition.values()):\n",
    "    communities[i] = list()\n",
    "for i in partition:\n",
    "    communities[partition[i]].append(i)\n",
    "temp = {}\n",
    "for k in sorted(communities, key=lambda k: len(communities[k]), reverse=True):\n",
    "        temp[k] = communities[k]\n",
    "communities = temp\n",
    "for i in communities:\n",
    "    print(\"Community {}, size: {}\".format(i,len(communities[i])))\n",
    "print(\"Communities detected: {}\".format(len(communities)))\n",
    "print(\"Modularity: {}\".format(community_louvain.modularity(partition,twitter_d.to_undirected())))\n",
    "for i in twitter_d.nodes:\n",
    "    nx.set_node_attributes(twitter_d, {i:partition[i]}, 'community')"
   ]
  },
  {
   "cell_type": "code",
   "execution_count": 79,
   "metadata": {
    "execution": {
     "iopub.execute_input": "2020-05-19T22:57:22.288Z",
     "iopub.status.busy": "2020-05-19T22:57:22.275Z",
     "iopub.status.idle": "2020-05-19T22:57:23.183Z",
     "shell.execute_reply": "2020-05-19T22:57:23.224Z"
    },
    "jupyter": {
     "outputs_hidden": false,
     "source_hidden": false
    },
    "nteract": {
     "transient": {
      "deleting": false
     }
    },
    "outputExpanded": false,
    "scrolled": false
   },
   "outputs": [
    {
     "name": "stdout",
     "output_type": "stream",
     "text": [
      "Loading page (1/2)\r\n",
      "[>                                                           ] 0%\r",
      "[======>                                                     ] 10%\r",
      "[==============================>                             ] 50%\r",
      "[============================================================] 100%\r",
      "Rendering (2/2)                                                    \r\n",
      "[>                                                           ] 0%\r",
      "[===============>                                            ] 25%\r",
      "[============================================================] 100%\r",
      "Done                                                               \r\n"
     ]
    },
    {
     "data": {
      "text/html": [
       "<div>\n",
       "<style scoped>\n",
       "    .dataframe tbody tr th:only-of-type {\n",
       "        vertical-align: middle;\n",
       "    }\n",
       "\n",
       "    .dataframe tbody tr th {\n",
       "        vertical-align: top;\n",
       "    }\n",
       "\n",
       "    .dataframe thead th {\n",
       "        text-align: right;\n",
       "    }\n",
       "</style>\n",
       "<table border=\"1\" class=\"dataframe\">\n",
       "  <thead>\n",
       "    <tr style=\"text-align: right;\">\n",
       "      <th></th>\n",
       "      <th>User Handle</th>\n",
       "      <th>Degree</th>\n",
       "      <th>In-Degree</th>\n",
       "      <th>Out-Degree</th>\n",
       "      <th>Degree Centrality</th>\n",
       "      <th>Closeness Centrality</th>\n",
       "      <th>Eigenvector Centrality</th>\n",
       "      <th>Betweenness Centrality</th>\n",
       "      <th>PageRank</th>\n",
       "      <th>Community</th>\n",
       "      <th>Tweets</th>\n",
       "    </tr>\n",
       "  </thead>\n",
       "  <tbody>\n",
       "    <tr>\n",
       "      <th>0</th>\n",
       "      <td>RadioSavana</td>\n",
       "      <td>6032</td>\n",
       "      <td>6032</td>\n",
       "      <td>0</td>\n",
       "      <td>0.163270</td>\n",
       "      <td>0.084872</td>\n",
       "      <td>0.627209</td>\n",
       "      <td>0.000000e+00</td>\n",
       "      <td>0.043131</td>\n",
       "      <td>8</td>\n",
       "      <td>102</td>\n",
       "    </tr>\n",
       "    <tr>\n",
       "      <th>1</th>\n",
       "      <td>Agenzia_Ansa</td>\n",
       "      <td>1311</td>\n",
       "      <td>1306</td>\n",
       "      <td>5</td>\n",
       "      <td>0.035485</td>\n",
       "      <td>0.060109</td>\n",
       "      <td>0.120247</td>\n",
       "      <td>3.794716e-05</td>\n",
       "      <td>0.005995</td>\n",
       "      <td>1</td>\n",
       "      <td>242</td>\n",
       "    </tr>\n",
       "    <tr>\n",
       "      <th>2</th>\n",
       "      <td>Cartabellotta</td>\n",
       "      <td>1258</td>\n",
       "      <td>1256</td>\n",
       "      <td>2</td>\n",
       "      <td>0.034051</td>\n",
       "      <td>0.071182</td>\n",
       "      <td>0.036095</td>\n",
       "      <td>1.303863e-05</td>\n",
       "      <td>0.010955</td>\n",
       "      <td>7</td>\n",
       "      <td>46</td>\n",
       "    </tr>\n",
       "    <tr>\n",
       "      <th>3</th>\n",
       "      <td>giorgiamennuni</td>\n",
       "      <td>1254</td>\n",
       "      <td>1254</td>\n",
       "      <td>0</td>\n",
       "      <td>0.033942</td>\n",
       "      <td>0.059350</td>\n",
       "      <td>0.097716</td>\n",
       "      <td>0.000000e+00</td>\n",
       "      <td>0.007208</td>\n",
       "      <td>16</td>\n",
       "      <td>1</td>\n",
       "    </tr>\n",
       "    <tr>\n",
       "      <th>4</th>\n",
       "      <td>GrimoldiPaolo</td>\n",
       "      <td>1166</td>\n",
       "      <td>1166</td>\n",
       "      <td>0</td>\n",
       "      <td>0.031560</td>\n",
       "      <td>0.031792</td>\n",
       "      <td>0.010627</td>\n",
       "      <td>0.000000e+00</td>\n",
       "      <td>0.011814</td>\n",
       "      <td>30</td>\n",
       "      <td>6</td>\n",
       "    </tr>\n",
       "    <tr>\n",
       "      <th>5</th>\n",
       "      <td>CesareSacchetti</td>\n",
       "      <td>1117</td>\n",
       "      <td>1117</td>\n",
       "      <td>0</td>\n",
       "      <td>0.030234</td>\n",
       "      <td>0.035835</td>\n",
       "      <td>0.173170</td>\n",
       "      <td>0.000000e+00</td>\n",
       "      <td>0.003956</td>\n",
       "      <td>8</td>\n",
       "      <td>18</td>\n",
       "    </tr>\n",
       "    <tr>\n",
       "      <th>6</th>\n",
       "      <td>francescatotolo</td>\n",
       "      <td>1092</td>\n",
       "      <td>1090</td>\n",
       "      <td>2</td>\n",
       "      <td>0.029557</td>\n",
       "      <td>0.041449</td>\n",
       "      <td>0.139711</td>\n",
       "      <td>1.145190e-05</td>\n",
       "      <td>0.003144</td>\n",
       "      <td>8</td>\n",
       "      <td>38</td>\n",
       "    </tr>\n",
       "    <tr>\n",
       "      <th>7</th>\n",
       "      <td>Corriere</td>\n",
       "      <td>1039</td>\n",
       "      <td>1030</td>\n",
       "      <td>9</td>\n",
       "      <td>0.028123</td>\n",
       "      <td>0.063392</td>\n",
       "      <td>0.119571</td>\n",
       "      <td>9.731336e-05</td>\n",
       "      <td>0.007912</td>\n",
       "      <td>1</td>\n",
       "      <td>277</td>\n",
       "    </tr>\n",
       "    <tr>\n",
       "      <th>8</th>\n",
       "      <td>repubblica</td>\n",
       "      <td>862</td>\n",
       "      <td>852</td>\n",
       "      <td>10</td>\n",
       "      <td>0.023332</td>\n",
       "      <td>0.051073</td>\n",
       "      <td>0.021271</td>\n",
       "      <td>1.006331e-04</td>\n",
       "      <td>0.007471</td>\n",
       "      <td>1</td>\n",
       "      <td>360</td>\n",
       "    </tr>\n",
       "    <tr>\n",
       "      <th>9</th>\n",
       "      <td>Pontifex_it</td>\n",
       "      <td>749</td>\n",
       "      <td>749</td>\n",
       "      <td>0</td>\n",
       "      <td>0.020273</td>\n",
       "      <td>0.038130</td>\n",
       "      <td>0.009477</td>\n",
       "      <td>0.000000e+00</td>\n",
       "      <td>0.006013</td>\n",
       "      <td>9</td>\n",
       "      <td>2</td>\n",
       "    </tr>\n",
       "    <tr>\n",
       "      <th>10</th>\n",
       "      <td>fattoquotidiano</td>\n",
       "      <td>733</td>\n",
       "      <td>729</td>\n",
       "      <td>4</td>\n",
       "      <td>0.019840</td>\n",
       "      <td>0.047615</td>\n",
       "      <td>0.032490</td>\n",
       "      <td>3.053168e-05</td>\n",
       "      <td>0.003472</td>\n",
       "      <td>4</td>\n",
       "      <td>144</td>\n",
       "    </tr>\n",
       "    <tr>\n",
       "      <th>11</th>\n",
       "      <td>SkyTG24</td>\n",
       "      <td>691</td>\n",
       "      <td>691</td>\n",
       "      <td>0</td>\n",
       "      <td>0.018703</td>\n",
       "      <td>0.072128</td>\n",
       "      <td>0.075356</td>\n",
       "      <td>0.000000e+00</td>\n",
       "      <td>0.008987</td>\n",
       "      <td>1</td>\n",
       "      <td>286</td>\n",
       "    </tr>\n",
       "    <tr>\n",
       "      <th>12</th>\n",
       "      <td>you_trend</td>\n",
       "      <td>665</td>\n",
       "      <td>665</td>\n",
       "      <td>0</td>\n",
       "      <td>0.018000</td>\n",
       "      <td>0.056575</td>\n",
       "      <td>0.019479</td>\n",
       "      <td>0.000000e+00</td>\n",
       "      <td>0.004995</td>\n",
       "      <td>0</td>\n",
       "      <td>69</td>\n",
       "    </tr>\n",
       "    <tr>\n",
       "      <th>13</th>\n",
       "      <td>GiorgiaMeloni</td>\n",
       "      <td>651</td>\n",
       "      <td>651</td>\n",
       "      <td>0</td>\n",
       "      <td>0.017621</td>\n",
       "      <td>0.032484</td>\n",
       "      <td>0.034204</td>\n",
       "      <td>0.000000e+00</td>\n",
       "      <td>0.003270</td>\n",
       "      <td>8</td>\n",
       "      <td>4</td>\n",
       "    </tr>\n",
       "    <tr>\n",
       "      <th>14</th>\n",
       "      <td>MediasetTgcom24</td>\n",
       "      <td>576</td>\n",
       "      <td>576</td>\n",
       "      <td>0</td>\n",
       "      <td>0.015591</td>\n",
       "      <td>0.042614</td>\n",
       "      <td>0.032592</td>\n",
       "      <td>0.000000e+00</td>\n",
       "      <td>0.002734</td>\n",
       "      <td>1</td>\n",
       "      <td>179</td>\n",
       "    </tr>\n",
       "    <tr>\n",
       "      <th>15</th>\n",
       "      <td>TarroGiulio</td>\n",
       "      <td>539</td>\n",
       "      <td>539</td>\n",
       "      <td>0</td>\n",
       "      <td>0.014589</td>\n",
       "      <td>0.035623</td>\n",
       "      <td>0.228226</td>\n",
       "      <td>0.000000e+00</td>\n",
       "      <td>0.003145</td>\n",
       "      <td>8</td>\n",
       "      <td>2</td>\n",
       "    </tr>\n",
       "    <tr>\n",
       "      <th>16</th>\n",
       "      <td>Stefbazzi</td>\n",
       "      <td>507</td>\n",
       "      <td>499</td>\n",
       "      <td>8</td>\n",
       "      <td>0.013723</td>\n",
       "      <td>0.032507</td>\n",
       "      <td>0.172016</td>\n",
       "      <td>5.030419e-04</td>\n",
       "      <td>0.001418</td>\n",
       "      <td>8</td>\n",
       "      <td>18</td>\n",
       "    </tr>\n",
       "    <tr>\n",
       "      <th>17</th>\n",
       "      <td>NonVaccinato</td>\n",
       "      <td>495</td>\n",
       "      <td>484</td>\n",
       "      <td>11</td>\n",
       "      <td>0.013398</td>\n",
       "      <td>0.032518</td>\n",
       "      <td>0.225345</td>\n",
       "      <td>6.829531e-04</td>\n",
       "      <td>0.001897</td>\n",
       "      <td>8</td>\n",
       "      <td>19</td>\n",
       "    </tr>\n",
       "    <tr>\n",
       "      <th>18</th>\n",
       "      <td>Adnkronos</td>\n",
       "      <td>486</td>\n",
       "      <td>486</td>\n",
       "      <td>0</td>\n",
       "      <td>0.013155</td>\n",
       "      <td>0.041114</td>\n",
       "      <td>0.025660</td>\n",
       "      <td>0.000000e+00</td>\n",
       "      <td>0.001860</td>\n",
       "      <td>1</td>\n",
       "      <td>280</td>\n",
       "    </tr>\n",
       "    <tr>\n",
       "      <th>19</th>\n",
       "      <td>molumbe</td>\n",
       "      <td>469</td>\n",
       "      <td>468</td>\n",
       "      <td>1</td>\n",
       "      <td>0.012695</td>\n",
       "      <td>0.033790</td>\n",
       "      <td>0.074687</td>\n",
       "      <td>1.112952e-07</td>\n",
       "      <td>0.001593</td>\n",
       "      <td>8</td>\n",
       "      <td>16</td>\n",
       "    </tr>\n",
       "    <tr>\n",
       "      <th>20</th>\n",
       "      <td>ItalyQanons</td>\n",
       "      <td>464</td>\n",
       "      <td>447</td>\n",
       "      <td>17</td>\n",
       "      <td>0.012559</td>\n",
       "      <td>0.027312</td>\n",
       "      <td>0.054549</td>\n",
       "      <td>1.863036e-04</td>\n",
       "      <td>0.001128</td>\n",
       "      <td>8</td>\n",
       "      <td>29</td>\n",
       "    </tr>\n",
       "    <tr>\n",
       "      <th>21</th>\n",
       "      <td>Pgreco_</td>\n",
       "      <td>456</td>\n",
       "      <td>454</td>\n",
       "      <td>2</td>\n",
       "      <td>0.012343</td>\n",
       "      <td>0.032595</td>\n",
       "      <td>0.098645</td>\n",
       "      <td>1.997344e-06</td>\n",
       "      <td>0.001528</td>\n",
       "      <td>8</td>\n",
       "      <td>4</td>\n",
       "    </tr>\n",
       "    <tr>\n",
       "      <th>22</th>\n",
       "      <td>benq_antonio</td>\n",
       "      <td>450</td>\n",
       "      <td>450</td>\n",
       "      <td>0</td>\n",
       "      <td>0.012180</td>\n",
       "      <td>0.032759</td>\n",
       "      <td>0.102284</td>\n",
       "      <td>0.000000e+00</td>\n",
       "      <td>0.001590</td>\n",
       "      <td>8</td>\n",
       "      <td>11</td>\n",
       "    </tr>\n",
       "    <tr>\n",
       "      <th>23</th>\n",
       "      <td>christianrocca</td>\n",
       "      <td>427</td>\n",
       "      <td>417</td>\n",
       "      <td>10</td>\n",
       "      <td>0.011558</td>\n",
       "      <td>0.032217</td>\n",
       "      <td>0.003071</td>\n",
       "      <td>4.049816e-04</td>\n",
       "      <td>0.002914</td>\n",
       "      <td>5</td>\n",
       "      <td>18</td>\n",
       "    </tr>\n",
       "    <tr>\n",
       "      <th>24</th>\n",
       "      <td>marco_gervasoni</td>\n",
       "      <td>406</td>\n",
       "      <td>406</td>\n",
       "      <td>0</td>\n",
       "      <td>0.010989</td>\n",
       "      <td>0.031666</td>\n",
       "      <td>0.098471</td>\n",
       "      <td>0.000000e+00</td>\n",
       "      <td>0.001692</td>\n",
       "      <td>8</td>\n",
       "      <td>8</td>\n",
       "    </tr>\n",
       "    <tr>\n",
       "      <th>25</th>\n",
       "      <td>davcarretta</td>\n",
       "      <td>397</td>\n",
       "      <td>397</td>\n",
       "      <td>0</td>\n",
       "      <td>0.010746</td>\n",
       "      <td>0.033930</td>\n",
       "      <td>0.001034</td>\n",
       "      <td>0.000000e+00</td>\n",
       "      <td>0.003142</td>\n",
       "      <td>5</td>\n",
       "      <td>1</td>\n",
       "    </tr>\n",
       "    <tr>\n",
       "      <th>26</th>\n",
       "      <td>matteorenzi</td>\n",
       "      <td>394</td>\n",
       "      <td>394</td>\n",
       "      <td>0</td>\n",
       "      <td>0.010665</td>\n",
       "      <td>0.029400</td>\n",
       "      <td>0.000246</td>\n",
       "      <td>0.000000e+00</td>\n",
       "      <td>0.003131</td>\n",
       "      <td>5</td>\n",
       "      <td>1</td>\n",
       "    </tr>\n",
       "    <tr>\n",
       "      <th>27</th>\n",
       "      <td>MedicalFactsIT</td>\n",
       "      <td>389</td>\n",
       "      <td>389</td>\n",
       "      <td>0</td>\n",
       "      <td>0.010529</td>\n",
       "      <td>0.035497</td>\n",
       "      <td>0.002659</td>\n",
       "      <td>0.000000e+00</td>\n",
       "      <td>0.002735</td>\n",
       "      <td>7</td>\n",
       "      <td>15</td>\n",
       "    </tr>\n",
       "    <tr>\n",
       "      <th>28</th>\n",
       "      <td>ilpost</td>\n",
       "      <td>386</td>\n",
       "      <td>379</td>\n",
       "      <td>7</td>\n",
       "      <td>0.010448</td>\n",
       "      <td>0.038279</td>\n",
       "      <td>0.006363</td>\n",
       "      <td>7.319054e-04</td>\n",
       "      <td>0.003157</td>\n",
       "      <td>7</td>\n",
       "      <td>53</td>\n",
       "    </tr>\n",
       "    <tr>\n",
       "      <th>29</th>\n",
       "      <td>matteosalvinimi</td>\n",
       "      <td>378</td>\n",
       "      <td>378</td>\n",
       "      <td>0</td>\n",
       "      <td>0.010231</td>\n",
       "      <td>0.027806</td>\n",
       "      <td>0.028600</td>\n",
       "      <td>0.000000e+00</td>\n",
       "      <td>0.001966</td>\n",
       "      <td>8</td>\n",
       "      <td>5</td>\n",
       "    </tr>\n",
       "    <tr>\n",
       "      <th>30</th>\n",
       "      <td>DSantanche</td>\n",
       "      <td>376</td>\n",
       "      <td>376</td>\n",
       "      <td>0</td>\n",
       "      <td>0.010177</td>\n",
       "      <td>0.027909</td>\n",
       "      <td>0.017147</td>\n",
       "      <td>0.000000e+00</td>\n",
       "      <td>0.001180</td>\n",
       "      <td>8</td>\n",
       "      <td>6</td>\n",
       "    </tr>\n",
       "    <tr>\n",
       "      <th>31</th>\n",
       "      <td>VittorioSgarbi</td>\n",
       "      <td>368</td>\n",
       "      <td>368</td>\n",
       "      <td>0</td>\n",
       "      <td>0.009961</td>\n",
       "      <td>0.027679</td>\n",
       "      <td>0.029149</td>\n",
       "      <td>0.000000e+00</td>\n",
       "      <td>0.001540</td>\n",
       "      <td>8</td>\n",
       "      <td>19</td>\n",
       "    </tr>\n",
       "    <tr>\n",
       "      <th>32</th>\n",
       "      <td>GiancarloDeRisi</td>\n",
       "      <td>362</td>\n",
       "      <td>359</td>\n",
       "      <td>3</td>\n",
       "      <td>0.009798</td>\n",
       "      <td>0.031460</td>\n",
       "      <td>0.029440</td>\n",
       "      <td>3.122069e-04</td>\n",
       "      <td>0.000793</td>\n",
       "      <td>8</td>\n",
       "      <td>15</td>\n",
       "    </tr>\n",
       "    <tr>\n",
       "      <th>33</th>\n",
       "      <td>VNotKind</td>\n",
       "      <td>346</td>\n",
       "      <td>346</td>\n",
       "      <td>0</td>\n",
       "      <td>0.009365</td>\n",
       "      <td>0.032559</td>\n",
       "      <td>0.176372</td>\n",
       "      <td>0.000000e+00</td>\n",
       "      <td>0.001166</td>\n",
       "      <td>8</td>\n",
       "      <td>17</td>\n",
       "    </tr>\n",
       "    <tr>\n",
       "      <th>34</th>\n",
       "      <td>IlariaBifarini</td>\n",
       "      <td>338</td>\n",
       "      <td>337</td>\n",
       "      <td>1</td>\n",
       "      <td>0.009149</td>\n",
       "      <td>0.032227</td>\n",
       "      <td>0.027698</td>\n",
       "      <td>8.727154e-07</td>\n",
       "      <td>0.000894</td>\n",
       "      <td>8</td>\n",
       "      <td>11</td>\n",
       "    </tr>\n",
       "    <tr>\n",
       "      <th>35</th>\n",
       "      <td>LaStampa</td>\n",
       "      <td>337</td>\n",
       "      <td>337</td>\n",
       "      <td>0</td>\n",
       "      <td>0.009122</td>\n",
       "      <td>0.035355</td>\n",
       "      <td>0.021171</td>\n",
       "      <td>0.000000e+00</td>\n",
       "      <td>0.001468</td>\n",
       "      <td>1</td>\n",
       "      <td>159</td>\n",
       "    </tr>\n",
       "    <tr>\n",
       "      <th>36</th>\n",
       "      <td>jeperego</td>\n",
       "      <td>333</td>\n",
       "      <td>333</td>\n",
       "      <td>0</td>\n",
       "      <td>0.009013</td>\n",
       "      <td>0.043957</td>\n",
       "      <td>0.018583</td>\n",
       "      <td>0.000000e+00</td>\n",
       "      <td>0.001928</td>\n",
       "      <td>5</td>\n",
       "      <td>16</td>\n",
       "    </tr>\n",
       "  </tbody>\n",
       "</table>\n",
       "</div>"
      ],
      "text/plain": [
       "        User Handle  Degree  In-Degree  Out-Degree  Degree Centrality  \\\n",
       "0       RadioSavana    6032       6032           0           0.163270   \n",
       "1      Agenzia_Ansa    1311       1306           5           0.035485   \n",
       "2     Cartabellotta    1258       1256           2           0.034051   \n",
       "3    giorgiamennuni    1254       1254           0           0.033942   \n",
       "4     GrimoldiPaolo    1166       1166           0           0.031560   \n",
       "5   CesareSacchetti    1117       1117           0           0.030234   \n",
       "6   francescatotolo    1092       1090           2           0.029557   \n",
       "7          Corriere    1039       1030           9           0.028123   \n",
       "8        repubblica     862        852          10           0.023332   \n",
       "9       Pontifex_it     749        749           0           0.020273   \n",
       "10  fattoquotidiano     733        729           4           0.019840   \n",
       "11          SkyTG24     691        691           0           0.018703   \n",
       "12        you_trend     665        665           0           0.018000   \n",
       "13    GiorgiaMeloni     651        651           0           0.017621   \n",
       "14  MediasetTgcom24     576        576           0           0.015591   \n",
       "15      TarroGiulio     539        539           0           0.014589   \n",
       "16        Stefbazzi     507        499           8           0.013723   \n",
       "17     NonVaccinato     495        484          11           0.013398   \n",
       "18        Adnkronos     486        486           0           0.013155   \n",
       "19          molumbe     469        468           1           0.012695   \n",
       "20      ItalyQanons     464        447          17           0.012559   \n",
       "21          Pgreco_     456        454           2           0.012343   \n",
       "22     benq_antonio     450        450           0           0.012180   \n",
       "23   christianrocca     427        417          10           0.011558   \n",
       "24  marco_gervasoni     406        406           0           0.010989   \n",
       "25      davcarretta     397        397           0           0.010746   \n",
       "26      matteorenzi     394        394           0           0.010665   \n",
       "27   MedicalFactsIT     389        389           0           0.010529   \n",
       "28           ilpost     386        379           7           0.010448   \n",
       "29  matteosalvinimi     378        378           0           0.010231   \n",
       "30       DSantanche     376        376           0           0.010177   \n",
       "31   VittorioSgarbi     368        368           0           0.009961   \n",
       "32  GiancarloDeRisi     362        359           3           0.009798   \n",
       "33         VNotKind     346        346           0           0.009365   \n",
       "34   IlariaBifarini     338        337           1           0.009149   \n",
       "35         LaStampa     337        337           0           0.009122   \n",
       "36         jeperego     333        333           0           0.009013   \n",
       "\n",
       "    Closeness Centrality  Eigenvector Centrality  Betweenness Centrality  \\\n",
       "0               0.084872                0.627209            0.000000e+00   \n",
       "1               0.060109                0.120247            3.794716e-05   \n",
       "2               0.071182                0.036095            1.303863e-05   \n",
       "3               0.059350                0.097716            0.000000e+00   \n",
       "4               0.031792                0.010627            0.000000e+00   \n",
       "5               0.035835                0.173170            0.000000e+00   \n",
       "6               0.041449                0.139711            1.145190e-05   \n",
       "7               0.063392                0.119571            9.731336e-05   \n",
       "8               0.051073                0.021271            1.006331e-04   \n",
       "9               0.038130                0.009477            0.000000e+00   \n",
       "10              0.047615                0.032490            3.053168e-05   \n",
       "11              0.072128                0.075356            0.000000e+00   \n",
       "12              0.056575                0.019479            0.000000e+00   \n",
       "13              0.032484                0.034204            0.000000e+00   \n",
       "14              0.042614                0.032592            0.000000e+00   \n",
       "15              0.035623                0.228226            0.000000e+00   \n",
       "16              0.032507                0.172016            5.030419e-04   \n",
       "17              0.032518                0.225345            6.829531e-04   \n",
       "18              0.041114                0.025660            0.000000e+00   \n",
       "19              0.033790                0.074687            1.112952e-07   \n",
       "20              0.027312                0.054549            1.863036e-04   \n",
       "21              0.032595                0.098645            1.997344e-06   \n",
       "22              0.032759                0.102284            0.000000e+00   \n",
       "23              0.032217                0.003071            4.049816e-04   \n",
       "24              0.031666                0.098471            0.000000e+00   \n",
       "25              0.033930                0.001034            0.000000e+00   \n",
       "26              0.029400                0.000246            0.000000e+00   \n",
       "27              0.035497                0.002659            0.000000e+00   \n",
       "28              0.038279                0.006363            7.319054e-04   \n",
       "29              0.027806                0.028600            0.000000e+00   \n",
       "30              0.027909                0.017147            0.000000e+00   \n",
       "31              0.027679                0.029149            0.000000e+00   \n",
       "32              0.031460                0.029440            3.122069e-04   \n",
       "33              0.032559                0.176372            0.000000e+00   \n",
       "34              0.032227                0.027698            8.727154e-07   \n",
       "35              0.035355                0.021171            0.000000e+00   \n",
       "36              0.043957                0.018583            0.000000e+00   \n",
       "\n",
       "    PageRank  Community  Tweets  \n",
       "0   0.043131          8     102  \n",
       "1   0.005995          1     242  \n",
       "2   0.010955          7      46  \n",
       "3   0.007208         16       1  \n",
       "4   0.011814         30       6  \n",
       "5   0.003956          8      18  \n",
       "6   0.003144          8      38  \n",
       "7   0.007912          1     277  \n",
       "8   0.007471          1     360  \n",
       "9   0.006013          9       2  \n",
       "10  0.003472          4     144  \n",
       "11  0.008987          1     286  \n",
       "12  0.004995          0      69  \n",
       "13  0.003270          8       4  \n",
       "14  0.002734          1     179  \n",
       "15  0.003145          8       2  \n",
       "16  0.001418          8      18  \n",
       "17  0.001897          8      19  \n",
       "18  0.001860          1     280  \n",
       "19  0.001593          8      16  \n",
       "20  0.001128          8      29  \n",
       "21  0.001528          8       4  \n",
       "22  0.001590          8      11  \n",
       "23  0.002914          5      18  \n",
       "24  0.001692          8       8  \n",
       "25  0.003142          5       1  \n",
       "26  0.003131          5       1  \n",
       "27  0.002735          7      15  \n",
       "28  0.003157          7      53  \n",
       "29  0.001966          8       5  \n",
       "30  0.001180          8       6  \n",
       "31  0.001540          8      19  \n",
       "32  0.000793          8      15  \n",
       "33  0.001166          8      17  \n",
       "34  0.000894          8      11  \n",
       "35  0.001468          1     159  \n",
       "36  0.001928          5      16  "
      ]
     },
     "execution_count": 79,
     "metadata": {},
     "output_type": "execute_result"
    }
   ],
   "source": [
    "#Print table for 20 top degree\n",
    "dt = list()\n",
    "for i in sorted(twitter_d.degree, key=lambda x: x[1], reverse=True)[:37]:\n",
    "    user = {}\n",
    "    user['User Handle'] = i[0]\n",
    "    user['Degree'] = i[1]\n",
    "    user['In-Degree'] = twitter_d.in_degree(i[0])\n",
    "    user['Out-Degree'] = twitter_d.out_degree(i[0])\n",
    "    user['Degree Centrality'] = degree_centrality.get(i[0])\n",
    "    user['Closeness Centrality'] = closeness_centrality.get(i[0])\n",
    "    user['Eigenvector Centrality'] = eigenvector_centrality.get(i[0])\n",
    "    user['Betweenness Centrality'] = betweenness_centrality.get(i[0])\n",
    "    user['PageRank'] = pr_centrality.get(i[0])\n",
    "    user['Community'] = partition[i[0]]\n",
    "    handle = i[0]\n",
    "    links = list()\n",
    "    for x in dataset:\n",
    "        for y in x.get(\"tweets\",\"\"):\n",
    "            if list(y.get(\"retweeted_from\",\"\").keys())[0] == handle:\n",
    "                linkGenerator = \"https://twitter.com/\"+handle+\"/status/\"+str(y.get(\"retweeted_from\",\"\")[handle])\n",
    "                links.append(linkGenerator)\n",
    "    links = list(set(links))\n",
    "    user['Tweets'] = len(links)\n",
    "    \n",
    "    dt.append(user)\n",
    "df = pd.DataFrame(dt)\n",
    "\n",
    "## Enter your css for the table.\n",
    "css = \"\"\"\n",
    "<style type=\\\"text/css\\\">\n",
    "table {\n",
    "color: #333;\n",
    "font-family: Helvetica, Arial, sans-serif;\n",
    "width: 1500px;\n",
    "border-collapse:\n",
    "collapse; \n",
    "border-spacing: 0;\n",
    "}\n",
    "\n",
    "td, th {\n",
    "border: 1px solid transparent; /* No more visible border */\n",
    "height: 30px;\n",
    "}\n",
    "\n",
    "th {\n",
    "background: #DFDFDF; /* Darken header a bit */\n",
    "font-weight: bold;\n",
    "text-align: left;\n",
    "}\n",
    "\n",
    "td {\n",
    "background: #FAFAFA;\n",
    "text-align: left;\n",
    "}\n",
    "\n",
    "table tr:nth-child(odd) td{\n",
    "background-color: white;\n",
    "}\n",
    "</style>\n",
    "\"\"\"\n",
    "def DataFrame_to_image(data, css, outputfile=\"out.png\", format=\"png\"):\n",
    "    '''\n",
    "    For rendering a Pandas DataFrame as an image.\n",
    "    data: a pandas DataFrame\n",
    "    css: a string containing rules for styling the output table. This must \n",
    "         contain both the opening an closing <style> tags.\n",
    "    *outputimage: filename for saving of generated image\n",
    "    *format: output format, as supported by IMGKit. Default is \"png\"\n",
    "    '''\n",
    "    fn = str(random.random()*100000000).split(\".\")[0] + \".html\"\n",
    "    \n",
    "    try:\n",
    "        os.remove(fn)\n",
    "    except:\n",
    "        None\n",
    "    text_file = open(fn, \"a\")\n",
    "    \n",
    "    # write the CSS\n",
    "    text_file.write(css)\n",
    "    # write the HTML-ized Pandas DataFrame\n",
    "    text_file.write(data.to_html())\n",
    "    text_file.close()\n",
    "    \n",
    "    # See IMGKit options for full configuration,\n",
    "    # e.g. cropping of final image\n",
    "    imgkitoptions = {\"format\": format}\n",
    "    \n",
    "    imgkit.from_file(fn, outputfile, options=imgkitoptions)\n",
    "    os.remove(fn)\n",
    "    \n",
    "    \n",
    "DataFrame_to_image(df, css)\n",
    "\n",
    "df #Prints previously generated DataFrame"
   ]
  },
  {
   "cell_type": "code",
   "execution_count": 80,
   "metadata": {
    "scrolled": false
   },
   "outputs": [
    {
     "name": "stdout",
     "output_type": "stream",
     "text": [
      "Hubs communities: [8, 1, 7, 16, 30, 9, 4, 0, 5]\n",
      "\n",
      "Community: 8 [9702 nodes]\n",
      "Main hubs: ['RadioSavana', 'CesareSacchetti', 'francescatotolo', 'GiorgiaMeloni', 'TarroGiulio', 'Stefbazzi', 'NonVaccinato', 'molumbe', 'ItalyQanons', 'Pgreco_', 'benq_antonio', 'marco_gervasoni', 'matteosalvinimi', 'DSantanche', 'VittorioSgarbi', 'GiancarloDeRisi', 'VNotKind', 'IlariaBifarini']\n",
      "Average tweets per hub: 19.0\n",
      "Average clustering: 0.03887278015161909\n",
      "Standard deviation local clustering: 0.10101988143114687\n",
      "Degree assortativity coefficient: -0.27354154166750344\n",
      "Reciprocity: 0.0013156397493637156\n",
      "Assortativity correlation with communities:\n",
      "Best community is 9 with value: 0.06716978218405283\n",
      "Worse community is 0 with value: 0.5897362402630659\n",
      "\n",
      "Community: 1 [5138 nodes]\n",
      "Main hubs: ['Agenzia_Ansa', 'Corriere', 'repubblica', 'SkyTG24', 'MediasetTgcom24', 'Adnkronos', 'LaStampa']\n",
      "Average tweets per hub: 254.71428571428572\n",
      "Average clustering: 0.009362024822051654\n",
      "Standard deviation local clustering: 0.05903833318596838\n",
      "Degree assortativity coefficient: -0.13066413854834247\n",
      "Reciprocity: 0.0017266501164220067\n",
      "Assortativity correlation with communities:\n",
      "Best community is 0 with value: 0.1421090807093203\n",
      "Worse community is 8 with value: 0.5851526276803052\n",
      "\n",
      "Community: 7 [3126 nodes]\n",
      "Main hubs: ['Cartabellotta', 'MedicalFactsIT', 'ilpost']\n",
      "Average tweets per hub: 38.0\n",
      "Average clustering: 0.009701972345297776\n",
      "Standard deviation local clustering: 0.06039701505007321\n",
      "Degree assortativity coefficient: -0.1505369289177993\n",
      "Reciprocity: 0.001619482425871113\n",
      "Assortativity correlation with communities:\n",
      "Best community is 8 with value: 0.13842621283778675\n",
      "Worse community is 0 with value: 0.6162494735588586\n",
      "\n",
      "Community: 16 [559 nodes]\n",
      "Main hubs: ['giorgiamennuni']\n",
      "Average tweets per hub: 1.0\n",
      "Average clustering: 0.0028788800189824514\n",
      "Standard deviation local clustering: 0.028700218523546806\n",
      "Degree assortativity coefficient: -0.3947076970219134\n",
      "Reciprocity: 0.0\n",
      "Assortativity correlation with communities:\n",
      "Best community is 8 with value: 0.37734529579794496\n",
      "Worse community is 0 with value: 0.8064756963680855\n",
      "\n",
      "Community: 30 [1123 nodes]\n",
      "Main hubs: ['GrimoldiPaolo']\n",
      "Average tweets per hub: 6.0\n",
      "Average clustering: 2.1210890585960123e-05\n",
      "Standard deviation local clustering: 0.0007101780660694504\n",
      "Degree assortativity coefficient: -0.4629792942284477\n",
      "Reciprocity: 0.0\n",
      "Assortativity correlation with communities:\n",
      "Best community is 8 with value: 0.8691150339065591\n",
      "Worse community is 0 with value: 0.965723896101466\n",
      "\n",
      "Community: 9 [1724 nodes]\n",
      "Main hubs: ['Pontifex_it']\n",
      "Average tweets per hub: 2.0\n",
      "Average clustering: 0.018970362520921737\n",
      "Standard deviation local clustering: 0.09444448880008625\n",
      "Degree assortativity coefficient: -0.21353189014367535\n",
      "Reciprocity: 0.0011349403193083878\n",
      "Assortativity correlation with communities:\n",
      "Best community is 8 with value: 0.06716978218405283\n",
      "Worse community is 0 with value: 0.7134652962844483\n",
      "\n",
      "Community: 4 [1974 nodes]\n",
      "Main hubs: ['fattoquotidiano']\n",
      "Average tweets per hub: 144.0\n",
      "Average clustering: 0.024627237507918516\n",
      "Standard deviation local clustering: 0.07320672091241458\n",
      "Degree assortativity coefficient: -0.1462873742539439\n",
      "Reciprocity: 0.0012215518864458583\n",
      "Assortativity correlation with communities:\n",
      "Best community is 5 with value: 0.16383643624311967\n",
      "Worse community is 9 with value: 0.49070927367541434\n",
      "\n",
      "Community: 0 [1804 nodes]\n",
      "Main hubs: ['you_trend']\n",
      "Average tweets per hub: 69.0\n",
      "Average clustering: 0.00830494551721092\n",
      "Standard deviation local clustering: 0.05826648091965536\n",
      "Degree assortativity coefficient: -0.13585855270444908\n",
      "Reciprocity: 0.00047825419222315\n",
      "Assortativity correlation with communities:\n",
      "Best community is 1 with value: 0.1421090807093203\n",
      "Worse community is 9 with value: 0.7134652962844483\n",
      "\n",
      "Community: 5 [2959 nodes]\n",
      "Main hubs: ['christianrocca', 'davcarretta', 'matteorenzi', 'jeperego']\n",
      "Average tweets per hub: 9.0\n",
      "Average clustering: 0.022217655411130893\n",
      "Standard deviation local clustering: 0.10196510648865577\n",
      "Degree assortativity coefficient: -0.15045584433742284\n",
      "Reciprocity: 0.0022620553521694705\n",
      "Assortativity correlation with communities:\n",
      "Best community is 4 with value: 0.16383643624311967\n",
      "Worse community is 0 with value: 0.5011190614168923\n",
      "\n"
     ]
    }
   ],
   "source": [
    "best_communities = list()\n",
    "for i in dt:\n",
    "    if i.get(\"Community\",\"\") not in best_communities:\n",
    "        best_communities.append(i.get(\"Community\",\"\"))\n",
    "print(\"Hubs communities: {}\".format(best_communities))\n",
    "print(\"\")\n",
    "\n",
    "dataset = json.load(open('datasets/dataset.json'))\n",
    "\n",
    "for i in best_communities:\n",
    "    temp = list()\n",
    "    avgtweets = list()\n",
    "    for j in dt:\n",
    "        if j.get(\"Community\",\"\") == i:\n",
    "            temp.append(j.get(\"User Handle\",\"\"))\n",
    "            handle = j.get(\"User Handle\",\"\")\n",
    "            links = list()\n",
    "            for x in dataset:\n",
    "                for y in x.get(\"tweets\",\"\"):\n",
    "                    if list(y.get(\"retweeted_from\",\"\").keys())[0] == handle:\n",
    "                        linkGenerator = \"https://twitter.com/\"+handle+\"/status/\"+str(y.get(\"retweeted_from\",\"\")[handle])\n",
    "                        links.append(linkGenerator)\n",
    "            links = list(set(links))\n",
    "            avgtweets.append(len(links))\n",
    "    \n",
    "    print(\"Community: {} [{} nodes]\".format(i,len(communities[i])))\n",
    "    print(\"Main hubs: {}\".format(temp))\n",
    "    print(\"Average tweets per hub: {}\".format(np.mean(avgtweets)))\n",
    "    print('Average clustering: {}'.format(nx.average_clustering(twitter_d,communities[i])))\n",
    "    print('Standard deviation local clustering: {}'.format(np.std(list(nx.clustering(twitter_d,communities[i]).values()))))\n",
    "    print('Degree assortativity coefficient: {}'.format(nx.degree_assortativity_coefficient(twitter_d,nodes=communities[i])))\n",
    "    print('Reciprocity: {}'.format(np.mean(list(nx.reciprocity(twitter_d,nodes=communities[i]).values()))))\n",
    "    print(\"Assortativity correlation with communities:\")\n",
    "   \n",
    "    #for y in best_communities:\n",
    "    #    if y == i:\n",
    "    #       continue\n",
    "    #    else:\n",
    "    #        print(\"Community {}: {}\".format(y,nx.numeric_assortativity_coefficient(twitter_d,'community',nodes=communities[i]+communities[y])))\n",
    "    \n",
    "    #TODO: Should we compare between all communities or just hub-prevalent ones?\n",
    "    compare = dict()\n",
    "    for y in best_communities:\n",
    "        if (y == i) or (y == 30) or (y == 16): #Removing giorgiamennuni and grimoldipaolo\n",
    "            continue\n",
    "        else:\n",
    "            compare[y] = nx.numeric_assortativity_coefficient(twitter_d,'community',nodes=communities[i]+communities[y])\n",
    "    \n",
    "    for comm, val in compare.items():\n",
    "        if val == min(compare.values()):\n",
    "            best = comm\n",
    "        if val == max(compare.values()):\n",
    "            worse = comm\n",
    "    print(\"Best community is {} with value: {}\".format(best, compare[best]))\n",
    "    print(\"Worse community is {} with value: {}\".format(worse, compare[worse]))\n",
    "    \n",
    "\n",
    "    \n",
    "    print(\"\")"
   ]
  },
  {
   "cell_type": "code",
   "execution_count": 40,
   "metadata": {},
   "outputs": [
    {
     "name": "stdout",
     "output_type": "stream",
     "text": [
      "3021\n",
      "('ilruttosovrano', 304)\n"
     ]
    }
   ],
   "source": [
    "temp = list()\n",
    "for i in partition:\n",
    "    if partition[i] == 10:\n",
    "        temp.append(i)\n",
    "tempdict = {}\n",
    "for i in temp:\n",
    "    tempdict[i] = nx.degree(twitter_d,nbunch=i)\n",
    "\n",
    "tempdict = sorted(tempdict.items(),key = lambda x:x[1], reverse=True)\n",
    "print(len(tempdict))\n",
    "print(tempdict[0])"
   ]
  },
  {
   "cell_type": "code",
   "execution_count": 60,
   "metadata": {
    "scrolled": false
   },
   "outputs": [
    {
     "name": "stdout",
     "output_type": "stream",
     "text": [
      "0\n"
     ]
    }
   ],
   "source": []
  }
 ],
 "metadata": {
  "kernelspec": {
   "display_name": "Python 3",
   "language": "python",
   "name": "python3"
  },
  "language_info": {
   "codemirror_mode": {
    "name": "ipython",
    "version": 3
   },
   "file_extension": ".py",
   "mimetype": "text/x-python",
   "name": "python",
   "nbconvert_exporter": "python",
   "pygments_lexer": "ipython3",
   "version": "3.7.6"
  },
  "nteract": {
   "version": "0.23.1"
  }
 },
 "nbformat": 4,
 "nbformat_minor": 4
}
